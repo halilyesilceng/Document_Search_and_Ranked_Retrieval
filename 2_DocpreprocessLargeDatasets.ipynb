{
 "cells": [
  {
   "cell_type": "markdown",
   "id": "d1925310",
   "metadata": {},
   "source": [
    "# 2 Large Dataset Preprocess"
   ]
  },
  {
   "cell_type": "code",
   "execution_count": 102,
   "id": "9a5a6097",
   "metadata": {},
   "outputs": [],
   "source": [
    "import os\n",
    "import pandas as pd\n",
    "import re\n",
    "import nltk\n",
    "from nltk.corpus import stopwords, words\n",
    "from nltk.stem.porter import PorterStemmer\n",
    "import string\n",
    "\n",
    "stemmer = PorterStemmer()\n",
    "nltk.download('stopwords')\n",
    "stop_words = set(stopwords.words('english'))\n",
    "directory = 'LargeDataset/full_docs/full_docs/'\n",
    "\n",
    "document_names = []\n",
    "document_content = []\n",
    "\n",
    "for filename in os.listdir(directory):\n",
    "    if filename.endswith(\".txt\"):\n",
    "        file_path = os.path.join(directory, filename)\n",
    "        \n",
    "        # Read the content of each file\n",
    "        with open(file_path, 'r', encoding='utf-8') as file:\n",
    "            content = file.read()\n",
    "            document_names.append(filename)\n",
    "            document_content.append(content)\n",
    "\n",
    "df = pd.DataFrame({\n",
    "    'DocumentName': document_names,\n",
    "    'Content': document_content\n",
    "})\n"
   ]
  },
  {
   "cell_type": "code",
   "execution_count": 103,
   "id": "f112be1b",
   "metadata": {},
   "outputs": [
    {
     "data": {
      "text/html": [
       "<div>\n",
       "<style scoped>\n",
       "    .dataframe tbody tr th:only-of-type {\n",
       "        vertical-align: middle;\n",
       "    }\n",
       "\n",
       "    .dataframe tbody tr th {\n",
       "        vertical-align: top;\n",
       "    }\n",
       "\n",
       "    .dataframe thead th {\n",
       "        text-align: right;\n",
       "    }\n",
       "</style>\n",
       "<table border=\"1\" class=\"dataframe\">\n",
       "  <thead>\n",
       "    <tr style=\"text-align: right;\">\n",
       "      <th></th>\n",
       "      <th>DocumentName</th>\n",
       "      <th>Content</th>\n",
       "    </tr>\n",
       "  </thead>\n",
       "  <tbody>\n",
       "    <tr>\n",
       "      <th>0</th>\n",
       "      <td>output_1.txt</td>\n",
       "      <td>Science &amp; Mathematics PhysicsThe hot glowing s...</td>\n",
       "    </tr>\n",
       "    <tr>\n",
       "      <th>1</th>\n",
       "      <td>output_10.txt</td>\n",
       "      <td>\"Health Other - HealthI have trouble swallowin...</td>\n",
       "    </tr>\n",
       "    <tr>\n",
       "      <th>2</th>\n",
       "      <td>output_100.txt</td>\n",
       "      <td>\"Supertramp The Logical Song without Cofounder...</td>\n",
       "    </tr>\n",
       "    <tr>\n",
       "      <th>3</th>\n",
       "      <td>output_1000.txt</td>\n",
       "      <td>\"Legal market overview‘ France is shrinking! ’...</td>\n",
       "    </tr>\n",
       "    <tr>\n",
       "      <th>4</th>\n",
       "      <td>output_10000.txt</td>\n",
       "      <td>\"Health_Concerns: WHAT ARE THE MEDICAL DANGERS...</td>\n",
       "    </tr>\n",
       "  </tbody>\n",
       "</table>\n",
       "</div>"
      ],
      "text/plain": [
       "       DocumentName                                            Content\n",
       "0      output_1.txt  Science & Mathematics PhysicsThe hot glowing s...\n",
       "1     output_10.txt  \"Health Other - HealthI have trouble swallowin...\n",
       "2    output_100.txt  \"Supertramp The Logical Song without Cofounder...\n",
       "3   output_1000.txt  \"Legal market overview‘ France is shrinking! ’...\n",
       "4  output_10000.txt  \"Health_Concerns: WHAT ARE THE MEDICAL DANGERS..."
      ]
     },
     "execution_count": 103,
     "metadata": {},
     "output_type": "execute_result"
    }
   ],
   "source": [
    "df.head()"
   ]
  },
  {
   "cell_type": "code",
   "execution_count": 104,
   "id": "231e56c1-681e-4d9d-bb89-dd8a457836d1",
   "metadata": {},
   "outputs": [
    {
     "data": {
      "text/plain": [
       "(501676, 2)"
      ]
     },
     "execution_count": 104,
     "metadata": {},
     "output_type": "execute_result"
    }
   ],
   "source": [
    "df.shape"
   ]
  },
  {
   "cell_type": "markdown",
   "id": "ae99e791",
   "metadata": {},
   "source": [
    "### Split United Words"
   ]
  },
  {
   "cell_type": "code",
   "execution_count": 107,
   "id": "7ba498e3",
   "metadata": {},
   "outputs": [],
   "source": [
    "def split_words(text):\n",
    "    return re.sub(r'([a-z])([A-Z])', r'\\1 \\2', text)\n",
    "\n",
    "df['PreprocessedContent'] = df['Content'].apply(split_words)"
   ]
  },
  {
   "cell_type": "code",
   "execution_count": 108,
   "id": "ad27cb4a",
   "metadata": {},
   "outputs": [
    {
     "data": {
      "text/html": [
       "<div>\n",
       "<style scoped>\n",
       "    .dataframe tbody tr th:only-of-type {\n",
       "        vertical-align: middle;\n",
       "    }\n",
       "\n",
       "    .dataframe tbody tr th {\n",
       "        vertical-align: top;\n",
       "    }\n",
       "\n",
       "    .dataframe thead th {\n",
       "        text-align: right;\n",
       "    }\n",
       "</style>\n",
       "<table border=\"1\" class=\"dataframe\">\n",
       "  <thead>\n",
       "    <tr style=\"text-align: right;\">\n",
       "      <th></th>\n",
       "      <th>DocumentName</th>\n",
       "      <th>Content</th>\n",
       "      <th>PreprocessedContent</th>\n",
       "    </tr>\n",
       "  </thead>\n",
       "  <tbody>\n",
       "    <tr>\n",
       "      <th>0</th>\n",
       "      <td>output_1.txt</td>\n",
       "      <td>Science &amp; Mathematics PhysicsThe hot glowing s...</td>\n",
       "      <td>Science &amp; Mathematics Physics The hot glowing ...</td>\n",
       "    </tr>\n",
       "    <tr>\n",
       "      <th>1</th>\n",
       "      <td>output_10.txt</td>\n",
       "      <td>\"Health Other - HealthI have trouble swallowin...</td>\n",
       "      <td>\"Health Other - Health I have trouble swallowi...</td>\n",
       "    </tr>\n",
       "    <tr>\n",
       "      <th>2</th>\n",
       "      <td>output_100.txt</td>\n",
       "      <td>\"Supertramp The Logical Song without Cofounder...</td>\n",
       "      <td>\"Supertramp The Logical Song without Cofounder...</td>\n",
       "    </tr>\n",
       "    <tr>\n",
       "      <th>3</th>\n",
       "      <td>output_1000.txt</td>\n",
       "      <td>\"Legal market overview‘ France is shrinking! ’...</td>\n",
       "      <td>\"Legal market overview‘ France is shrinking! ’...</td>\n",
       "    </tr>\n",
       "    <tr>\n",
       "      <th>4</th>\n",
       "      <td>output_10000.txt</td>\n",
       "      <td>\"Health_Concerns: WHAT ARE THE MEDICAL DANGERS...</td>\n",
       "      <td>\"Health_Concerns: WHAT ARE THE MEDICAL DANGERS...</td>\n",
       "    </tr>\n",
       "  </tbody>\n",
       "</table>\n",
       "</div>"
      ],
      "text/plain": [
       "       DocumentName                                            Content  \\\n",
       "0      output_1.txt  Science & Mathematics PhysicsThe hot glowing s...   \n",
       "1     output_10.txt  \"Health Other - HealthI have trouble swallowin...   \n",
       "2    output_100.txt  \"Supertramp The Logical Song without Cofounder...   \n",
       "3   output_1000.txt  \"Legal market overview‘ France is shrinking! ’...   \n",
       "4  output_10000.txt  \"Health_Concerns: WHAT ARE THE MEDICAL DANGERS...   \n",
       "\n",
       "                                 PreprocessedContent  \n",
       "0  Science & Mathematics Physics The hot glowing ...  \n",
       "1  \"Health Other - Health I have trouble swallowi...  \n",
       "2  \"Supertramp The Logical Song without Cofounder...  \n",
       "3  \"Legal market overview‘ France is shrinking! ’...  \n",
       "4  \"Health_Concerns: WHAT ARE THE MEDICAL DANGERS...  "
      ]
     },
     "execution_count": 108,
     "metadata": {},
     "output_type": "execute_result"
    }
   ],
   "source": [
    "df.head()"
   ]
  },
  {
   "cell_type": "code",
   "execution_count": 109,
   "id": "51d5880d",
   "metadata": {},
   "outputs": [
    {
     "data": {
      "text/plain": [
       "'Science & Mathematics PhysicsThe hot glowing surfaces of stars emit energy in the form of electromagnetic radiation.?It is a good approximation to assume that the emissivity e is equal to 1 for these surfaces.  Find the radius of the star Rigel, the bright blue star in the constellation Orion that radiates energy at a rate of 2.7 x 10^32 W and has a surface temperature of 11,000 K. Assume that the star is spherical. Use σ =... show moreFollow 3 answersAnswersRelevanceRatingNewestOldestBest Answer: Stefan-Boltzmann law states that the energy flux by radiation is proportional to the forth power of the temperature: q = ε · σ · T^4 The total energy flux at a spherical surface of Radius R is Q = q·π·R² = ε·σ·T^4·π·R² Hence the radius is R = √ ( Q / (ε·σ·T^4·π) ) = √ ( 2.7x10+32 W / (1 · 5.67x10-8W/m²K^4 · (1100K)^4 · π) ) = 3.22x10+13 mSource (s):http://en.wikipedia.org/wiki/Stefan_bolt...schmiso · 1 decade ago0 18 CommentSchmiso, you forgot a 4 in your answer. Your link even says it: L = 4pi (R^2)sigma (T^4). Using L, luminosity, as the energy in this problem, you can find the radius R by doing sqrt (L/ (4pisigma (T^4)). Hope this helps everyone.Caroline · 4 years ago4 1 Comment (Stefan-Boltzmann law) L = 4pi*R^2*sigma*T^4 Solving for R we get: => R = (1/ (2T^2)) * sqrt (L/ (pi*sigma)) Plugging in your values you should get: => R = (1/ (2 (11,000K)^2)) *sqrt ( (2.7*10^32W)/ (pi * (5.67*10^-8 W/m^2K^4))) R = 1.609 * 10^11 m? · 3 years ago0 1 CommentMaybe you would like to learn more about one of these?Want to build a free website? Interested in dating sites?Need a Home Security Safe? How to order contacts online?\\n'"
      ]
     },
     "execution_count": 109,
     "metadata": {},
     "output_type": "execute_result"
    }
   ],
   "source": [
    "df.loc[0,\"Content\"]"
   ]
  },
  {
   "cell_type": "code",
   "execution_count": 110,
   "id": "dd382d0c",
   "metadata": {},
   "outputs": [
    {
     "data": {
      "text/plain": [
       "'Science & Mathematics Physics The hot glowing surfaces of stars emit energy in the form of electromagnetic radiation.?It is a good approximation to assume that the emissivity e is equal to 1 for these surfaces.  Find the radius of the star Rigel, the bright blue star in the constellation Orion that radiates energy at a rate of 2.7 x 10^32 W and has a surface temperature of 11,000 K. Assume that the star is spherical. Use σ =... show more Follow 3 answers Answers Relevance Rating Newest Oldest Best Answer: Stefan-Boltzmann law states that the energy flux by radiation is proportional to the forth power of the temperature: q = ε · σ · T^4 The total energy flux at a spherical surface of Radius R is Q = q·π·R² = ε·σ·T^4·π·R² Hence the radius is R = √ ( Q / (ε·σ·T^4·π) ) = √ ( 2.7x10+32 W / (1 · 5.67x10-8W/m²K^4 · (1100K)^4 · π) ) = 3.22x10+13 m Source (s):http://en.wikipedia.org/wiki/Stefan_bolt...schmiso · 1 decade ago0 18 Comment Schmiso, you forgot a 4 in your answer. Your link even says it: L = 4pi (R^2)sigma (T^4). Using L, luminosity, as the energy in this problem, you can find the radius R by doing sqrt (L/ (4pisigma (T^4)). Hope this helps everyone.Caroline · 4 years ago4 1 Comment (Stefan-Boltzmann law) L = 4pi*R^2*sigma*T^4 Solving for R we get: => R = (1/ (2T^2)) * sqrt (L/ (pi*sigma)) Plugging in your values you should get: => R = (1/ (2 (11,000K)^2)) *sqrt ( (2.7*10^32W)/ (pi * (5.67*10^-8 W/m^2K^4))) R = 1.609 * 10^11 m? · 3 years ago0 1 Comment Maybe you would like to learn more about one of these?Want to build a free website? Interested in dating sites?Need a Home Security Safe? How to order contacts online?\\n'"
      ]
     },
     "execution_count": 110,
     "metadata": {},
     "output_type": "execute_result"
    }
   ],
   "source": [
    "df.loc[0,\"PreprocessedContent\"]"
   ]
  },
  {
   "cell_type": "code",
   "execution_count": 111,
   "id": "e9185fec",
   "metadata": {},
   "outputs": [
    {
     "data": {
      "text/plain": [
       "'\"Health Other - HealthI have trouble swallowing due to MS, can I crush valium & other meds to be easier to swallowll?Follow 5 answersAnswersRelevanceRatingNewestOldestBest Answer: If you have a problem swallowing, try crushing Valium (or other tablets) between two spoons, and taking them in a teaspoon of your favorite Jelly (raspberry???). The jelly helps the crushed meds slide down ~Anonymous · 10 years ago0 2 CommentAsker\\'s ratingAsk your pharmacist if any or all of your meds can be made into syrup form if you have trouble swallowing. Many forms of medication are designed to be swallowed whole and not interferred with. Do not take advice from those people on here who are only guessing at a correct answer. Seek the advice of professionals.Lady spanner · 10 years ago0 0 CommentI\\'m pretty sure its not a good idea to crush pills. You should definitely ask your doctor before doing anything like that, it might be dangerous.littleWing · 10 years ago0 0 CommentPlease ask your doctor! This is not a question for random people to answer. Medication is not something to mess around with. Look at Heath Ledger. He will be missed by everyone, especially his daughter. Don\\'t make the same mistake.pink · 10 years ago0 1 CommentYour doctor or any pharmacist should be able to tell you. Could vary for each medication.Bosco · 10 years ago0 0 CommentMaybe you would like to learn more about one of these?Glucose Monitoring Devices Considering an online college?Need migraine treatment? VPN options for your computer\"\\n'"
      ]
     },
     "execution_count": 111,
     "metadata": {},
     "output_type": "execute_result"
    }
   ],
   "source": [
    "df.loc[1,\"Content\"]"
   ]
  },
  {
   "cell_type": "code",
   "execution_count": 112,
   "id": "3b08c726",
   "metadata": {},
   "outputs": [
    {
     "data": {
      "text/plain": [
       "'\"Health Other - Health I have trouble swallowing due to MS, can I crush valium & other meds to be easier to swallowll?Follow 5 answers Answers Relevance Rating Newest Oldest Best Answer: If you have a problem swallowing, try crushing Valium (or other tablets) between two spoons, and taking them in a teaspoon of your favorite Jelly (raspberry???). The jelly helps the crushed meds slide down ~Anonymous · 10 years ago0 2 Comment Asker\\'s rating Ask your pharmacist if any or all of your meds can be made into syrup form if you have trouble swallowing. Many forms of medication are designed to be swallowed whole and not interferred with. Do not take advice from those people on here who are only guessing at a correct answer. Seek the advice of professionals.Lady spanner · 10 years ago0 0 Comment I\\'m pretty sure its not a good idea to crush pills. You should definitely ask your doctor before doing anything like that, it might be dangerous.little Wing · 10 years ago0 0 Comment Please ask your doctor! This is not a question for random people to answer. Medication is not something to mess around with. Look at Heath Ledger. He will be missed by everyone, especially his daughter. Don\\'t make the same mistake.pink · 10 years ago0 1 Comment Your doctor or any pharmacist should be able to tell you. Could vary for each medication.Bosco · 10 years ago0 0 Comment Maybe you would like to learn more about one of these?Glucose Monitoring Devices Considering an online college?Need migraine treatment? VPN options for your computer\"\\n'"
      ]
     },
     "execution_count": 112,
     "metadata": {},
     "output_type": "execute_result"
    }
   ],
   "source": [
    "df.loc[1,\"PreprocessedContent\"]"
   ]
  },
  {
   "cell_type": "markdown",
   "id": "4cbf47e9",
   "metadata": {},
   "source": [
    "### Lowercase"
   ]
  },
  {
   "cell_type": "code",
   "execution_count": 114,
   "id": "30d4d50a",
   "metadata": {},
   "outputs": [],
   "source": [
    "df['PreprocessedContent'] = df['PreprocessedContent'].apply(lambda x: x.lower() if isinstance(x, str) else x)"
   ]
  },
  {
   "cell_type": "code",
   "execution_count": 115,
   "id": "bb063712",
   "metadata": {},
   "outputs": [
    {
     "data": {
      "text/html": [
       "<div>\n",
       "<style scoped>\n",
       "    .dataframe tbody tr th:only-of-type {\n",
       "        vertical-align: middle;\n",
       "    }\n",
       "\n",
       "    .dataframe tbody tr th {\n",
       "        vertical-align: top;\n",
       "    }\n",
       "\n",
       "    .dataframe thead th {\n",
       "        text-align: right;\n",
       "    }\n",
       "</style>\n",
       "<table border=\"1\" class=\"dataframe\">\n",
       "  <thead>\n",
       "    <tr style=\"text-align: right;\">\n",
       "      <th></th>\n",
       "      <th>DocumentName</th>\n",
       "      <th>Content</th>\n",
       "      <th>PreprocessedContent</th>\n",
       "    </tr>\n",
       "  </thead>\n",
       "  <tbody>\n",
       "    <tr>\n",
       "      <th>0</th>\n",
       "      <td>output_1.txt</td>\n",
       "      <td>Science &amp; Mathematics PhysicsThe hot glowing s...</td>\n",
       "      <td>science &amp; mathematics physics the hot glowing ...</td>\n",
       "    </tr>\n",
       "    <tr>\n",
       "      <th>1</th>\n",
       "      <td>output_10.txt</td>\n",
       "      <td>\"Health Other - HealthI have trouble swallowin...</td>\n",
       "      <td>\"health other - health i have trouble swallowi...</td>\n",
       "    </tr>\n",
       "    <tr>\n",
       "      <th>2</th>\n",
       "      <td>output_100.txt</td>\n",
       "      <td>\"Supertramp The Logical Song without Cofounder...</td>\n",
       "      <td>\"supertramp the logical song without cofounder...</td>\n",
       "    </tr>\n",
       "    <tr>\n",
       "      <th>3</th>\n",
       "      <td>output_1000.txt</td>\n",
       "      <td>\"Legal market overview‘ France is shrinking! ’...</td>\n",
       "      <td>\"legal market overview‘ france is shrinking! ’...</td>\n",
       "    </tr>\n",
       "    <tr>\n",
       "      <th>4</th>\n",
       "      <td>output_10000.txt</td>\n",
       "      <td>\"Health_Concerns: WHAT ARE THE MEDICAL DANGERS...</td>\n",
       "      <td>\"health_concerns: what are the medical dangers...</td>\n",
       "    </tr>\n",
       "  </tbody>\n",
       "</table>\n",
       "</div>"
      ],
      "text/plain": [
       "       DocumentName                                            Content  \\\n",
       "0      output_1.txt  Science & Mathematics PhysicsThe hot glowing s...   \n",
       "1     output_10.txt  \"Health Other - HealthI have trouble swallowin...   \n",
       "2    output_100.txt  \"Supertramp The Logical Song without Cofounder...   \n",
       "3   output_1000.txt  \"Legal market overview‘ France is shrinking! ’...   \n",
       "4  output_10000.txt  \"Health_Concerns: WHAT ARE THE MEDICAL DANGERS...   \n",
       "\n",
       "                                 PreprocessedContent  \n",
       "0  science & mathematics physics the hot glowing ...  \n",
       "1  \"health other - health i have trouble swallowi...  \n",
       "2  \"supertramp the logical song without cofounder...  \n",
       "3  \"legal market overview‘ france is shrinking! ’...  \n",
       "4  \"health_concerns: what are the medical dangers...  "
      ]
     },
     "execution_count": 115,
     "metadata": {},
     "output_type": "execute_result"
    }
   ],
   "source": [
    "df.head()"
   ]
  },
  {
   "cell_type": "markdown",
   "id": "08d64c66",
   "metadata": {},
   "source": [
    " ### Removing URLs"
   ]
  },
  {
   "cell_type": "code",
   "execution_count": 117,
   "id": "804f380d",
   "metadata": {},
   "outputs": [],
   "source": [
    "url_pattern = re.compile(r'https?://\\S+')\n",
    "\n",
    "def remove_urls(text):\n",
    "    return url_pattern.sub('', text)\n",
    "\n",
    "df['PreprocessedContent'] = df['PreprocessedContent'].apply(remove_urls)"
   ]
  },
  {
   "cell_type": "code",
   "execution_count": 118,
   "id": "e8b49b5f",
   "metadata": {},
   "outputs": [
    {
     "data": {
      "text/html": [
       "<div>\n",
       "<style scoped>\n",
       "    .dataframe tbody tr th:only-of-type {\n",
       "        vertical-align: middle;\n",
       "    }\n",
       "\n",
       "    .dataframe tbody tr th {\n",
       "        vertical-align: top;\n",
       "    }\n",
       "\n",
       "    .dataframe thead th {\n",
       "        text-align: right;\n",
       "    }\n",
       "</style>\n",
       "<table border=\"1\" class=\"dataframe\">\n",
       "  <thead>\n",
       "    <tr style=\"text-align: right;\">\n",
       "      <th></th>\n",
       "      <th>DocumentName</th>\n",
       "      <th>Content</th>\n",
       "      <th>PreprocessedContent</th>\n",
       "    </tr>\n",
       "  </thead>\n",
       "  <tbody>\n",
       "    <tr>\n",
       "      <th>0</th>\n",
       "      <td>output_1.txt</td>\n",
       "      <td>Science &amp; Mathematics PhysicsThe hot glowing s...</td>\n",
       "      <td>science &amp; mathematics physics the hot glowing ...</td>\n",
       "    </tr>\n",
       "    <tr>\n",
       "      <th>1</th>\n",
       "      <td>output_10.txt</td>\n",
       "      <td>\"Health Other - HealthI have trouble swallowin...</td>\n",
       "      <td>\"health other - health i have trouble swallowi...</td>\n",
       "    </tr>\n",
       "    <tr>\n",
       "      <th>2</th>\n",
       "      <td>output_100.txt</td>\n",
       "      <td>\"Supertramp The Logical Song without Cofounder...</td>\n",
       "      <td>\"supertramp the logical song without cofounder...</td>\n",
       "    </tr>\n",
       "    <tr>\n",
       "      <th>3</th>\n",
       "      <td>output_1000.txt</td>\n",
       "      <td>\"Legal market overview‘ France is shrinking! ’...</td>\n",
       "      <td>\"legal market overview‘ france is shrinking! ’...</td>\n",
       "    </tr>\n",
       "    <tr>\n",
       "      <th>4</th>\n",
       "      <td>output_10000.txt</td>\n",
       "      <td>\"Health_Concerns: WHAT ARE THE MEDICAL DANGERS...</td>\n",
       "      <td>\"health_concerns: what are the medical dangers...</td>\n",
       "    </tr>\n",
       "  </tbody>\n",
       "</table>\n",
       "</div>"
      ],
      "text/plain": [
       "       DocumentName                                            Content  \\\n",
       "0      output_1.txt  Science & Mathematics PhysicsThe hot glowing s...   \n",
       "1     output_10.txt  \"Health Other - HealthI have trouble swallowin...   \n",
       "2    output_100.txt  \"Supertramp The Logical Song without Cofounder...   \n",
       "3   output_1000.txt  \"Legal market overview‘ France is shrinking! ’...   \n",
       "4  output_10000.txt  \"Health_Concerns: WHAT ARE THE MEDICAL DANGERS...   \n",
       "\n",
       "                                 PreprocessedContent  \n",
       "0  science & mathematics physics the hot glowing ...  \n",
       "1  \"health other - health i have trouble swallowi...  \n",
       "2  \"supertramp the logical song without cofounder...  \n",
       "3  \"legal market overview‘ france is shrinking! ’...  \n",
       "4  \"health_concerns: what are the medical dangers...  "
      ]
     },
     "execution_count": 118,
     "metadata": {},
     "output_type": "execute_result"
    }
   ],
   "source": [
    "df.head()"
   ]
  },
  {
   "cell_type": "markdown",
   "id": "76285835",
   "metadata": {},
   "source": [
    "### Removing remove non-word and non-whitespace characters"
   ]
  },
  {
   "cell_type": "code",
   "execution_count": 120,
   "id": "e856dc85",
   "metadata": {},
   "outputs": [],
   "source": [
    "df['PreprocessedContent'] = df['PreprocessedContent'].replace(to_replace=r'[^\\w\\s]', value=' ', regex=True)"
   ]
  },
  {
   "cell_type": "code",
   "execution_count": 121,
   "id": "c180a93e-9f93-42cf-8f40-bb5eb5dc2430",
   "metadata": {},
   "outputs": [],
   "source": [
    "df['PreprocessedContent'] = df['PreprocessedContent'].replace(to_replace=r'[^a-zA-Z\\s]', value=' ', regex=True)"
   ]
  },
  {
   "cell_type": "code",
   "execution_count": 122,
   "id": "b3220493",
   "metadata": {},
   "outputs": [
    {
     "data": {
      "text/html": [
       "<div>\n",
       "<style scoped>\n",
       "    .dataframe tbody tr th:only-of-type {\n",
       "        vertical-align: middle;\n",
       "    }\n",
       "\n",
       "    .dataframe tbody tr th {\n",
       "        vertical-align: top;\n",
       "    }\n",
       "\n",
       "    .dataframe thead th {\n",
       "        text-align: right;\n",
       "    }\n",
       "</style>\n",
       "<table border=\"1\" class=\"dataframe\">\n",
       "  <thead>\n",
       "    <tr style=\"text-align: right;\">\n",
       "      <th></th>\n",
       "      <th>DocumentName</th>\n",
       "      <th>Content</th>\n",
       "      <th>PreprocessedContent</th>\n",
       "    </tr>\n",
       "  </thead>\n",
       "  <tbody>\n",
       "    <tr>\n",
       "      <th>0</th>\n",
       "      <td>output_1.txt</td>\n",
       "      <td>Science &amp; Mathematics PhysicsThe hot glowing s...</td>\n",
       "      <td>science   mathematics physics the hot glowing ...</td>\n",
       "    </tr>\n",
       "    <tr>\n",
       "      <th>1</th>\n",
       "      <td>output_10.txt</td>\n",
       "      <td>\"Health Other - HealthI have trouble swallowin...</td>\n",
       "      <td>health other   health i have trouble swallowi...</td>\n",
       "    </tr>\n",
       "    <tr>\n",
       "      <th>2</th>\n",
       "      <td>output_100.txt</td>\n",
       "      <td>\"Supertramp The Logical Song without Cofounder...</td>\n",
       "      <td>supertramp the logical song without cofounder...</td>\n",
       "    </tr>\n",
       "    <tr>\n",
       "      <th>3</th>\n",
       "      <td>output_1000.txt</td>\n",
       "      <td>\"Legal market overview‘ France is shrinking! ’...</td>\n",
       "      <td>legal market overview  france is shrinking   ...</td>\n",
       "    </tr>\n",
       "    <tr>\n",
       "      <th>4</th>\n",
       "      <td>output_10000.txt</td>\n",
       "      <td>\"Health_Concerns: WHAT ARE THE MEDICAL DANGERS...</td>\n",
       "      <td>health concerns  what are the medical dangers...</td>\n",
       "    </tr>\n",
       "  </tbody>\n",
       "</table>\n",
       "</div>"
      ],
      "text/plain": [
       "       DocumentName                                            Content  \\\n",
       "0      output_1.txt  Science & Mathematics PhysicsThe hot glowing s...   \n",
       "1     output_10.txt  \"Health Other - HealthI have trouble swallowin...   \n",
       "2    output_100.txt  \"Supertramp The Logical Song without Cofounder...   \n",
       "3   output_1000.txt  \"Legal market overview‘ France is shrinking! ’...   \n",
       "4  output_10000.txt  \"Health_Concerns: WHAT ARE THE MEDICAL DANGERS...   \n",
       "\n",
       "                                 PreprocessedContent  \n",
       "0  science   mathematics physics the hot glowing ...  \n",
       "1   health other   health i have trouble swallowi...  \n",
       "2   supertramp the logical song without cofounder...  \n",
       "3   legal market overview  france is shrinking   ...  \n",
       "4   health concerns  what are the medical dangers...  "
      ]
     },
     "execution_count": 122,
     "metadata": {},
     "output_type": "execute_result"
    }
   ],
   "source": [
    "df.head()"
   ]
  },
  {
   "cell_type": "code",
   "execution_count": 123,
   "id": "23662050",
   "metadata": {
    "scrolled": true
   },
   "outputs": [
    {
     "data": {
      "text/plain": [
       "'science   mathematics physics the hot glowing surfaces of stars emit energy in the form of electromagnetic radiation  it is a good approximation to assume that the emissivity e is equal to   for these surfaces   find the radius of the star rigel  the bright blue star in the constellation orion that radiates energy at a rate of     x       w and has a surface temperature of        k  assume that the star is spherical  use        show more follow   answers answers relevance rating newest oldest best answer  stefan boltzmann law states that the energy flux by radiation is proportional to the forth power of the temperature  q           t   the total energy flux at a spherical surface of radius r is q   q   r        t     r  hence the radius is r       q        t                 x      w            x    w m k          k                 x      m source  s       decade ago     comment schmiso  you forgot a   in your answer  your link even says it  l    pi  r   sigma  t     using l  luminosity  as the energy in this problem  you can find the radius r by doing sqrt  l    pisigma  t      hope this helps everyone caroline     years ago    comment  stefan boltzmann law  l    pi r   sigma t   solving for r we get     r         t       sqrt  l   pi sigma   plugging in your values you should get     r                 k       sqrt             w    pi               w m  k      r                 m      years ago    comment maybe you would like to learn more about one of these want to build a free website  interested in dating sites need a home security safe  how to order contacts online \\n'"
      ]
     },
     "execution_count": 123,
     "metadata": {},
     "output_type": "execute_result"
    }
   ],
   "source": [
    "df.loc[0,\"PreprocessedContent\"]"
   ]
  },
  {
   "cell_type": "markdown",
   "id": "cf4b13ac",
   "metadata": {},
   "source": [
    "### Remove \\n"
   ]
  },
  {
   "cell_type": "code",
   "execution_count": 125,
   "id": "7d372a7b",
   "metadata": {},
   "outputs": [],
   "source": [
    "df_with_newline = df[df['PreprocessedContent'].apply(lambda x: '\\n' in x if isinstance(x, str) else False)]"
   ]
  },
  {
   "cell_type": "code",
   "execution_count": 126,
   "id": "ddea1a12",
   "metadata": {},
   "outputs": [
    {
     "data": {
      "text/plain": [
       "'science   mathematics physics the hot glowing surfaces of stars emit energy in the form of electromagnetic radiation  it is a good approximation to assume that the emissivity e is equal to   for these surfaces   find the radius of the star rigel  the bright blue star in the constellation orion that radiates energy at a rate of     x       w and has a surface temperature of        k  assume that the star is spherical  use        show more follow   answers answers relevance rating newest oldest best answer  stefan boltzmann law states that the energy flux by radiation is proportional to the forth power of the temperature  q           t   the total energy flux at a spherical surface of radius r is q   q   r        t     r  hence the radius is r       q        t                 x      w            x    w m k          k                 x      m source  s       decade ago     comment schmiso  you forgot a   in your answer  your link even says it  l    pi  r   sigma  t     using l  luminosity  as the energy in this problem  you can find the radius r by doing sqrt  l    pisigma  t      hope this helps everyone caroline     years ago    comment  stefan boltzmann law  l    pi r   sigma t   solving for r we get     r         t       sqrt  l   pi sigma   plugging in your values you should get     r                 k       sqrt             w    pi               w m  k      r                 m      years ago    comment maybe you would like to learn more about one of these want to build a free website  interested in dating sites need a home security safe  how to order contacts online \\n'"
      ]
     },
     "execution_count": 126,
     "metadata": {},
     "output_type": "execute_result"
    }
   ],
   "source": [
    "df_with_newline.iloc[0][\"PreprocessedContent\"]"
   ]
  },
  {
   "cell_type": "code",
   "execution_count": 127,
   "id": "8fc3e44d",
   "metadata": {},
   "outputs": [],
   "source": [
    "df['PreprocessedContent'] = df['PreprocessedContent'].apply(lambda x: x.replace('\\n', '') if isinstance(x, str) else x)"
   ]
  },
  {
   "cell_type": "code",
   "execution_count": 128,
   "id": "cba0f25c",
   "metadata": {},
   "outputs": [
    {
     "data": {
      "text/plain": [
       "'science   mathematics physics the hot glowing surfaces of stars emit energy in the form of electromagnetic radiation  it is a good approximation to assume that the emissivity e is equal to   for these surfaces   find the radius of the star rigel  the bright blue star in the constellation orion that radiates energy at a rate of     x       w and has a surface temperature of        k  assume that the star is spherical  use        show more follow   answers answers relevance rating newest oldest best answer  stefan boltzmann law states that the energy flux by radiation is proportional to the forth power of the temperature  q           t   the total energy flux at a spherical surface of radius r is q   q   r        t     r  hence the radius is r       q        t                 x      w            x    w m k          k                 x      m source  s       decade ago     comment schmiso  you forgot a   in your answer  your link even says it  l    pi  r   sigma  t     using l  luminosity  as the energy in this problem  you can find the radius r by doing sqrt  l    pisigma  t      hope this helps everyone caroline     years ago    comment  stefan boltzmann law  l    pi r   sigma t   solving for r we get     r         t       sqrt  l   pi sigma   plugging in your values you should get     r                 k       sqrt             w    pi               w m  k      r                 m      years ago    comment maybe you would like to learn more about one of these want to build a free website  interested in dating sites need a home security safe  how to order contacts online '"
      ]
     },
     "execution_count": 128,
     "metadata": {},
     "output_type": "execute_result"
    }
   ],
   "source": [
    "df.iloc[0][\"PreprocessedContent\"]"
   ]
  },
  {
   "cell_type": "markdown",
   "id": "8d56481d",
   "metadata": {},
   "source": [
    "### Removing digits"
   ]
  },
  {
   "cell_type": "code",
   "execution_count": 130,
   "id": "50c3ca10",
   "metadata": {},
   "outputs": [],
   "source": [
    "df['PreprocessedContent'] = df['PreprocessedContent'].replace(to_replace=r'\\d', value=' ', regex=True)"
   ]
  },
  {
   "cell_type": "code",
   "execution_count": 131,
   "id": "3f69beb5",
   "metadata": {},
   "outputs": [
    {
     "data": {
      "text/html": [
       "<div>\n",
       "<style scoped>\n",
       "    .dataframe tbody tr th:only-of-type {\n",
       "        vertical-align: middle;\n",
       "    }\n",
       "\n",
       "    .dataframe tbody tr th {\n",
       "        vertical-align: top;\n",
       "    }\n",
       "\n",
       "    .dataframe thead th {\n",
       "        text-align: right;\n",
       "    }\n",
       "</style>\n",
       "<table border=\"1\" class=\"dataframe\">\n",
       "  <thead>\n",
       "    <tr style=\"text-align: right;\">\n",
       "      <th></th>\n",
       "      <th>DocumentName</th>\n",
       "      <th>Content</th>\n",
       "      <th>PreprocessedContent</th>\n",
       "    </tr>\n",
       "  </thead>\n",
       "  <tbody>\n",
       "    <tr>\n",
       "      <th>0</th>\n",
       "      <td>output_1.txt</td>\n",
       "      <td>Science &amp; Mathematics PhysicsThe hot glowing s...</td>\n",
       "      <td>science   mathematics physics the hot glowing ...</td>\n",
       "    </tr>\n",
       "    <tr>\n",
       "      <th>1</th>\n",
       "      <td>output_10.txt</td>\n",
       "      <td>\"Health Other - HealthI have trouble swallowin...</td>\n",
       "      <td>health other   health i have trouble swallowi...</td>\n",
       "    </tr>\n",
       "    <tr>\n",
       "      <th>2</th>\n",
       "      <td>output_100.txt</td>\n",
       "      <td>\"Supertramp The Logical Song without Cofounder...</td>\n",
       "      <td>supertramp the logical song without cofounder...</td>\n",
       "    </tr>\n",
       "    <tr>\n",
       "      <th>3</th>\n",
       "      <td>output_1000.txt</td>\n",
       "      <td>\"Legal market overview‘ France is shrinking! ’...</td>\n",
       "      <td>legal market overview  france is shrinking   ...</td>\n",
       "    </tr>\n",
       "    <tr>\n",
       "      <th>4</th>\n",
       "      <td>output_10000.txt</td>\n",
       "      <td>\"Health_Concerns: WHAT ARE THE MEDICAL DANGERS...</td>\n",
       "      <td>health concerns  what are the medical dangers...</td>\n",
       "    </tr>\n",
       "  </tbody>\n",
       "</table>\n",
       "</div>"
      ],
      "text/plain": [
       "       DocumentName                                            Content  \\\n",
       "0      output_1.txt  Science & Mathematics PhysicsThe hot glowing s...   \n",
       "1     output_10.txt  \"Health Other - HealthI have trouble swallowin...   \n",
       "2    output_100.txt  \"Supertramp The Logical Song without Cofounder...   \n",
       "3   output_1000.txt  \"Legal market overview‘ France is shrinking! ’...   \n",
       "4  output_10000.txt  \"Health_Concerns: WHAT ARE THE MEDICAL DANGERS...   \n",
       "\n",
       "                                 PreprocessedContent  \n",
       "0  science   mathematics physics the hot glowing ...  \n",
       "1   health other   health i have trouble swallowi...  \n",
       "2   supertramp the logical song without cofounder...  \n",
       "3   legal market overview  france is shrinking   ...  \n",
       "4   health concerns  what are the medical dangers...  "
      ]
     },
     "execution_count": 131,
     "metadata": {},
     "output_type": "execute_result"
    }
   ],
   "source": [
    "df.head()"
   ]
  },
  {
   "cell_type": "markdown",
   "id": "0a69f090",
   "metadata": {},
   "source": [
    "### Remove Stopwords"
   ]
  },
  {
   "cell_type": "code",
   "execution_count": 135,
   "id": "0b0394f3",
   "metadata": {},
   "outputs": [],
   "source": [
    "def remove_stopwords(text):\n",
    "    words = text.split()\n",
    "    filtered_words = [word for word in words if word.lower() not in stop_words]\n",
    "    return ' '.join(filtered_words)"
   ]
  },
  {
   "cell_type": "code",
   "execution_count": 136,
   "id": "4f6b13ea",
   "metadata": {},
   "outputs": [],
   "source": [
    "df['PreprocessedContent'] = df['PreprocessedContent'].apply(remove_stopwords)"
   ]
  },
  {
   "cell_type": "code",
   "execution_count": 137,
   "id": "ecc5c1e7",
   "metadata": {},
   "outputs": [
    {
     "data": {
      "text/plain": [
       "0    science mathematics physics hot glowing surfac...\n",
       "1    health health trouble swallowing due ms crush ...\n",
       "2    supertramp logical song without cofounder roge...\n",
       "3    legal market overview france shrinking laments...\n",
       "4    health concerns medical dangers marijuana use ...\n",
       "Name: PreprocessedContent, dtype: object"
      ]
     },
     "execution_count": 137,
     "metadata": {},
     "output_type": "execute_result"
    }
   ],
   "source": [
    "df['PreprocessedContent'].head()"
   ]
  },
  {
   "cell_type": "markdown",
   "id": "be9a196b",
   "metadata": {},
   "source": [
    "### Remove Punctuations"
   ]
  },
  {
   "cell_type": "code",
   "execution_count": 140,
   "id": "f4ce1312",
   "metadata": {},
   "outputs": [],
   "source": [
    "df['PreprocessedContent'] = df['PreprocessedContent'].apply(lambda x: ''.join([' ' if char in string.punctuation else char for char in x]))"
   ]
  },
  {
   "cell_type": "code",
   "execution_count": 141,
   "id": "83a6f613",
   "metadata": {},
   "outputs": [
    {
     "data": {
      "text/html": [
       "<div>\n",
       "<style scoped>\n",
       "    .dataframe tbody tr th:only-of-type {\n",
       "        vertical-align: middle;\n",
       "    }\n",
       "\n",
       "    .dataframe tbody tr th {\n",
       "        vertical-align: top;\n",
       "    }\n",
       "\n",
       "    .dataframe thead th {\n",
       "        text-align: right;\n",
       "    }\n",
       "</style>\n",
       "<table border=\"1\" class=\"dataframe\">\n",
       "  <thead>\n",
       "    <tr style=\"text-align: right;\">\n",
       "      <th></th>\n",
       "      <th>DocumentName</th>\n",
       "      <th>Content</th>\n",
       "      <th>PreprocessedContent</th>\n",
       "    </tr>\n",
       "  </thead>\n",
       "  <tbody>\n",
       "    <tr>\n",
       "      <th>0</th>\n",
       "      <td>output_1.txt</td>\n",
       "      <td>Science &amp; Mathematics PhysicsThe hot glowing s...</td>\n",
       "      <td>science mathematics physics hot glowing surfac...</td>\n",
       "    </tr>\n",
       "    <tr>\n",
       "      <th>1</th>\n",
       "      <td>output_10.txt</td>\n",
       "      <td>\"Health Other - HealthI have trouble swallowin...</td>\n",
       "      <td>health health trouble swallowing due ms crush ...</td>\n",
       "    </tr>\n",
       "    <tr>\n",
       "      <th>2</th>\n",
       "      <td>output_100.txt</td>\n",
       "      <td>\"Supertramp The Logical Song without Cofounder...</td>\n",
       "      <td>supertramp logical song without cofounder roge...</td>\n",
       "    </tr>\n",
       "    <tr>\n",
       "      <th>3</th>\n",
       "      <td>output_1000.txt</td>\n",
       "      <td>\"Legal market overview‘ France is shrinking! ’...</td>\n",
       "      <td>legal market overview france shrinking laments...</td>\n",
       "    </tr>\n",
       "    <tr>\n",
       "      <th>4</th>\n",
       "      <td>output_10000.txt</td>\n",
       "      <td>\"Health_Concerns: WHAT ARE THE MEDICAL DANGERS...</td>\n",
       "      <td>health concerns medical dangers marijuana use ...</td>\n",
       "    </tr>\n",
       "  </tbody>\n",
       "</table>\n",
       "</div>"
      ],
      "text/plain": [
       "       DocumentName                                            Content  \\\n",
       "0      output_1.txt  Science & Mathematics PhysicsThe hot glowing s...   \n",
       "1     output_10.txt  \"Health Other - HealthI have trouble swallowin...   \n",
       "2    output_100.txt  \"Supertramp The Logical Song without Cofounder...   \n",
       "3   output_1000.txt  \"Legal market overview‘ France is shrinking! ’...   \n",
       "4  output_10000.txt  \"Health_Concerns: WHAT ARE THE MEDICAL DANGERS...   \n",
       "\n",
       "                                 PreprocessedContent  \n",
       "0  science mathematics physics hot glowing surfac...  \n",
       "1  health health trouble swallowing due ms crush ...  \n",
       "2  supertramp logical song without cofounder roge...  \n",
       "3  legal market overview france shrinking laments...  \n",
       "4  health concerns medical dangers marijuana use ...  "
      ]
     },
     "execution_count": 141,
     "metadata": {},
     "output_type": "execute_result"
    }
   ],
   "source": [
    "df.head()"
   ]
  },
  {
   "cell_type": "code",
   "execution_count": 142,
   "id": "e6bc9c0f",
   "metadata": {},
   "outputs": [
    {
     "data": {
      "text/plain": [
       "DocumentName                                           output_100016.txt\n",
       "Content                \"Examples of what you can createUse one of the...\n",
       "PreprocessedContent    examples create use one prebuilt themes speed ...\n",
       "Name: 22, dtype: object"
      ]
     },
     "execution_count": 142,
     "metadata": {},
     "output_type": "execute_result"
    }
   ],
   "source": [
    "df.loc[22]"
   ]
  },
  {
   "cell_type": "markdown",
   "id": "a67527b3",
   "metadata": {},
   "source": [
    "### Remove Non-English Words"
   ]
  },
  {
   "cell_type": "code",
   "execution_count": 145,
   "id": "dd2b60f9",
   "metadata": {},
   "outputs": [
    {
     "name": "stderr",
     "output_type": "stream",
     "text": [
      "[nltk_data] Downloading package words to\n",
      "[nltk_data]     C:\\Users\\halil\\AppData\\Roaming\\nltk_data...\n",
      "[nltk_data]   Package words is already up-to-date!\n"
     ]
    },
    {
     "data": {
      "text/plain": [
       "True"
      ]
     },
     "execution_count": 145,
     "metadata": {},
     "output_type": "execute_result"
    }
   ],
   "source": [
    "nltk.download('words')"
   ]
  },
  {
   "cell_type": "code",
   "execution_count": 146,
   "id": "d6146b7e",
   "metadata": {},
   "outputs": [],
   "source": [
    "english_words = set(words.words())"
   ]
  },
  {
   "cell_type": "code",
   "execution_count": 147,
   "id": "c90374a4",
   "metadata": {},
   "outputs": [],
   "source": [
    "def remove_non_english_words(text):\n",
    "    return ' '.join([word for word in text.split() if word.lower() in english_words])"
   ]
  },
  {
   "cell_type": "code",
   "execution_count": 148,
   "id": "581a1b3b",
   "metadata": {},
   "outputs": [],
   "source": [
    "df['PreprocessedContent'] = df['PreprocessedContent'].apply(remove_non_english_words)"
   ]
  },
  {
   "cell_type": "markdown",
   "id": "cb2c029d",
   "metadata": {},
   "source": [
    "### Remove One Letters"
   ]
  },
  {
   "cell_type": "code",
   "execution_count": 151,
   "id": "228222a8",
   "metadata": {},
   "outputs": [],
   "source": [
    "def remove_one_letter_words(text):\n",
    "    return ' '.join([word for word in text.split() if len(word) > 1])"
   ]
  },
  {
   "cell_type": "code",
   "execution_count": 152,
   "id": "d99dce3a",
   "metadata": {},
   "outputs": [],
   "source": [
    "df['PreprocessedContent'] = df['PreprocessedContent'].apply(remove_one_letter_words)"
   ]
  },
  {
   "cell_type": "code",
   "execution_count": 153,
   "id": "e3d938af",
   "metadata": {},
   "outputs": [
    {
     "data": {
      "text/plain": [
       "0    science mathematics physics hot glowing surfac...\n",
       "1    health health trouble swallowing due ms crush ...\n",
       "2    supertramp logical song without cofounder roge...\n",
       "3    legal market overview france shrinking laments...\n",
       "4    health concerns medical dangers marijuana use ...\n",
       "Name: PreprocessedContent, dtype: object"
      ]
     },
     "execution_count": 153,
     "metadata": {},
     "output_type": "execute_result"
    }
   ],
   "source": [
    "df['PreprocessedContent'].head()"
   ]
  },
  {
   "cell_type": "markdown",
   "id": "251875f0",
   "metadata": {},
   "source": [
    "### Remove Multiple Space"
   ]
  },
  {
   "cell_type": "code",
   "execution_count": 155,
   "id": "0016c651",
   "metadata": {},
   "outputs": [],
   "source": [
    "df['PreprocessedContent'] = df['PreprocessedContent'].str.replace(r'\\s+', ' ', regex=True)"
   ]
  },
  {
   "cell_type": "code",
   "execution_count": 156,
   "id": "54936eb3",
   "metadata": {},
   "outputs": [
    {
     "data": {
      "text/html": [
       "<div>\n",
       "<style scoped>\n",
       "    .dataframe tbody tr th:only-of-type {\n",
       "        vertical-align: middle;\n",
       "    }\n",
       "\n",
       "    .dataframe tbody tr th {\n",
       "        vertical-align: top;\n",
       "    }\n",
       "\n",
       "    .dataframe thead th {\n",
       "        text-align: right;\n",
       "    }\n",
       "</style>\n",
       "<table border=\"1\" class=\"dataframe\">\n",
       "  <thead>\n",
       "    <tr style=\"text-align: right;\">\n",
       "      <th></th>\n",
       "      <th>DocumentName</th>\n",
       "      <th>Content</th>\n",
       "      <th>PreprocessedContent</th>\n",
       "    </tr>\n",
       "  </thead>\n",
       "  <tbody>\n",
       "    <tr>\n",
       "      <th>0</th>\n",
       "      <td>output_1.txt</td>\n",
       "      <td>Science &amp; Mathematics PhysicsThe hot glowing s...</td>\n",
       "      <td>science mathematics physics hot glowing surfac...</td>\n",
       "    </tr>\n",
       "    <tr>\n",
       "      <th>1</th>\n",
       "      <td>output_10.txt</td>\n",
       "      <td>\"Health Other - HealthI have trouble swallowin...</td>\n",
       "      <td>health health trouble swallowing due ms crush ...</td>\n",
       "    </tr>\n",
       "    <tr>\n",
       "      <th>2</th>\n",
       "      <td>output_100.txt</td>\n",
       "      <td>\"Supertramp The Logical Song without Cofounder...</td>\n",
       "      <td>supertramp logical song without cofounder roge...</td>\n",
       "    </tr>\n",
       "    <tr>\n",
       "      <th>3</th>\n",
       "      <td>output_1000.txt</td>\n",
       "      <td>\"Legal market overview‘ France is shrinking! ’...</td>\n",
       "      <td>legal market overview france shrinking laments...</td>\n",
       "    </tr>\n",
       "    <tr>\n",
       "      <th>4</th>\n",
       "      <td>output_10000.txt</td>\n",
       "      <td>\"Health_Concerns: WHAT ARE THE MEDICAL DANGERS...</td>\n",
       "      <td>health concerns medical dangers marijuana use ...</td>\n",
       "    </tr>\n",
       "  </tbody>\n",
       "</table>\n",
       "</div>"
      ],
      "text/plain": [
       "       DocumentName                                            Content  \\\n",
       "0      output_1.txt  Science & Mathematics PhysicsThe hot glowing s...   \n",
       "1     output_10.txt  \"Health Other - HealthI have trouble swallowin...   \n",
       "2    output_100.txt  \"Supertramp The Logical Song without Cofounder...   \n",
       "3   output_1000.txt  \"Legal market overview‘ France is shrinking! ’...   \n",
       "4  output_10000.txt  \"Health_Concerns: WHAT ARE THE MEDICAL DANGERS...   \n",
       "\n",
       "                                 PreprocessedContent  \n",
       "0  science mathematics physics hot glowing surfac...  \n",
       "1  health health trouble swallowing due ms crush ...  \n",
       "2  supertramp logical song without cofounder roge...  \n",
       "3  legal market overview france shrinking laments...  \n",
       "4  health concerns medical dangers marijuana use ...  "
      ]
     },
     "execution_count": 156,
     "metadata": {},
     "output_type": "execute_result"
    }
   ],
   "source": [
    "df.head()"
   ]
  },
  {
   "cell_type": "markdown",
   "id": "21c15a7c",
   "metadata": {},
   "source": [
    "### Remove Empty Rows"
   ]
  },
  {
   "cell_type": "code",
   "execution_count": 158,
   "id": "85e41792",
   "metadata": {},
   "outputs": [],
   "source": [
    "df['ContentLength'] = df['PreprocessedContent'].apply(lambda x: len(x) if isinstance(x, str) else 0)"
   ]
  },
  {
   "cell_type": "code",
   "execution_count": 159,
   "id": "841449af",
   "metadata": {},
   "outputs": [
    {
     "data": {
      "text/plain": [
       "count    501676.000000\n",
       "mean       4828.293335\n",
       "std       10006.506602\n",
       "min           0.000000\n",
       "25%        1257.000000\n",
       "50%        2472.000000\n",
       "75%        4715.000000\n",
       "max      909652.000000\n",
       "Name: ContentLength, dtype: float64"
      ]
     },
     "execution_count": 159,
     "metadata": {},
     "output_type": "execute_result"
    }
   ],
   "source": [
    "df['ContentLength'].describe()"
   ]
  },
  {
   "cell_type": "code",
   "execution_count": 160,
   "id": "2c9d075e",
   "metadata": {},
   "outputs": [],
   "source": [
    "results = pd.read_csv(\"SmallDataset/dev_query_results_small.csv\")"
   ]
  },
  {
   "cell_type": "code",
   "execution_count": 161,
   "id": "85b31521",
   "metadata": {},
   "outputs": [],
   "source": [
    "results['doc_number'] = 'output_' + results['doc_number'].astype(str) + '.txt'"
   ]
  },
  {
   "cell_type": "code",
   "execution_count": 162,
   "id": "8eb16556",
   "metadata": {},
   "outputs": [
    {
     "data": {
      "text/html": [
       "<div>\n",
       "<style scoped>\n",
       "    .dataframe tbody tr th:only-of-type {\n",
       "        vertical-align: middle;\n",
       "    }\n",
       "\n",
       "    .dataframe tbody tr th {\n",
       "        vertical-align: top;\n",
       "    }\n",
       "\n",
       "    .dataframe thead th {\n",
       "        text-align: right;\n",
       "    }\n",
       "</style>\n",
       "<table border=\"1\" class=\"dataframe\">\n",
       "  <thead>\n",
       "    <tr style=\"text-align: right;\">\n",
       "      <th></th>\n",
       "      <th>Query_number</th>\n",
       "      <th>doc_number</th>\n",
       "    </tr>\n",
       "  </thead>\n",
       "  <tbody>\n",
       "    <tr>\n",
       "      <th>0</th>\n",
       "      <td>1089273</td>\n",
       "      <td>output_590.txt</td>\n",
       "    </tr>\n",
       "    <tr>\n",
       "      <th>1</th>\n",
       "      <td>1087869</td>\n",
       "      <td>output_1478.txt</td>\n",
       "    </tr>\n",
       "    <tr>\n",
       "      <th>2</th>\n",
       "      <td>1087858</td>\n",
       "      <td>output_547.txt</td>\n",
       "    </tr>\n",
       "    <tr>\n",
       "      <th>3</th>\n",
       "      <td>1087532</td>\n",
       "      <td>output_595.txt</td>\n",
       "    </tr>\n",
       "    <tr>\n",
       "      <th>4</th>\n",
       "      <td>1086886</td>\n",
       "      <td>output_466.txt</td>\n",
       "    </tr>\n",
       "  </tbody>\n",
       "</table>\n",
       "</div>"
      ],
      "text/plain": [
       "   Query_number       doc_number\n",
       "0       1089273   output_590.txt\n",
       "1       1087869  output_1478.txt\n",
       "2       1087858   output_547.txt\n",
       "3       1087532   output_595.txt\n",
       "4       1086886   output_466.txt"
      ]
     },
     "execution_count": 162,
     "metadata": {},
     "output_type": "execute_result"
    }
   ],
   "source": [
    "results.head()"
   ]
  },
  {
   "cell_type": "code",
   "execution_count": 163,
   "id": "707fdec8",
   "metadata": {},
   "outputs": [],
   "source": [
    "filtered_df = df[df['DocumentName'].isin(results['doc_number'])]"
   ]
  },
  {
   "cell_type": "code",
   "execution_count": 164,
   "id": "d0b96dc8",
   "metadata": {},
   "outputs": [
    {
     "data": {
      "text/plain": [
       "count      210.000000\n",
       "mean      8374.171429\n",
       "std      11399.216597\n",
       "min        288.000000\n",
       "25%       2721.000000\n",
       "50%       4900.000000\n",
       "75%       9571.000000\n",
       "max      84768.000000\n",
       "Name: ContentLength, dtype: float64"
      ]
     },
     "execution_count": 164,
     "metadata": {},
     "output_type": "execute_result"
    }
   ],
   "source": [
    "filtered_df[\"ContentLength\"].describe()"
   ]
  },
  {
   "cell_type": "markdown",
   "id": "3fff6885",
   "metadata": {},
   "source": [
    "- Content length of the question - answer statistics are above."
   ]
  },
  {
   "cell_type": "code",
   "execution_count": 166,
   "id": "9ad2ffc5",
   "metadata": {},
   "outputs": [
    {
     "data": {
      "text/html": [
       "<div>\n",
       "<style scoped>\n",
       "    .dataframe tbody tr th:only-of-type {\n",
       "        vertical-align: middle;\n",
       "    }\n",
       "\n",
       "    .dataframe tbody tr th {\n",
       "        vertical-align: top;\n",
       "    }\n",
       "\n",
       "    .dataframe thead th {\n",
       "        text-align: right;\n",
       "    }\n",
       "</style>\n",
       "<table border=\"1\" class=\"dataframe\">\n",
       "  <thead>\n",
       "    <tr style=\"text-align: right;\">\n",
       "      <th></th>\n",
       "      <th>DocumentName</th>\n",
       "      <th>Content</th>\n",
       "      <th>PreprocessedContent</th>\n",
       "      <th>ContentLength</th>\n",
       "    </tr>\n",
       "  </thead>\n",
       "  <tbody>\n",
       "    <tr>\n",
       "      <th>6</th>\n",
       "      <td>output_100001.txt</td>\n",
       "      <td>\"\"\\n</td>\n",
       "      <td></td>\n",
       "      <td>0</td>\n",
       "    </tr>\n",
       "    <tr>\n",
       "      <th>126</th>\n",
       "      <td>output_10011.txt</td>\n",
       "      <td>\"\"\\n</td>\n",
       "      <td></td>\n",
       "      <td>0</td>\n",
       "    </tr>\n",
       "    <tr>\n",
       "      <th>231</th>\n",
       "      <td>output_100204.txt</td>\n",
       "      <td>\"\"\\n</td>\n",
       "      <td></td>\n",
       "      <td>0</td>\n",
       "    </tr>\n",
       "    <tr>\n",
       "      <th>1388</th>\n",
       "      <td>output_101246.txt</td>\n",
       "      <td>\"\"\\n</td>\n",
       "      <td></td>\n",
       "      <td>0</td>\n",
       "    </tr>\n",
       "    <tr>\n",
       "      <th>1411</th>\n",
       "      <td>output_101267.txt</td>\n",
       "      <td>Loading...\\n</td>\n",
       "      <td>loading</td>\n",
       "      <td>7</td>\n",
       "    </tr>\n",
       "    <tr>\n",
       "      <th>...</th>\n",
       "      <td>...</td>\n",
       "      <td>...</td>\n",
       "      <td>...</td>\n",
       "      <td>...</td>\n",
       "    </tr>\n",
       "    <tr>\n",
       "      <th>500462</th>\n",
       "      <td>output_98906.txt</td>\n",
       "      <td>\"\"\\n</td>\n",
       "      <td></td>\n",
       "      <td>0</td>\n",
       "    </tr>\n",
       "    <tr>\n",
       "      <th>501151</th>\n",
       "      <td>output_99526.txt</td>\n",
       "      <td>\"\"\\n</td>\n",
       "      <td></td>\n",
       "      <td>0</td>\n",
       "    </tr>\n",
       "    <tr>\n",
       "      <th>501602</th>\n",
       "      <td>output_99932.txt</td>\n",
       "      <td>\"\"\\n</td>\n",
       "      <td></td>\n",
       "      <td>0</td>\n",
       "    </tr>\n",
       "    <tr>\n",
       "      <th>501648</th>\n",
       "      <td>output_99974.txt</td>\n",
       "      <td>Settings\\n</td>\n",
       "      <td>settings</td>\n",
       "      <td>8</td>\n",
       "    </tr>\n",
       "    <tr>\n",
       "      <th>501667</th>\n",
       "      <td>output_99991.txt</td>\n",
       "      <td>\"\"\\n</td>\n",
       "      <td></td>\n",
       "      <td>0</td>\n",
       "    </tr>\n",
       "  </tbody>\n",
       "</table>\n",
       "<p>2063 rows × 4 columns</p>\n",
       "</div>"
      ],
      "text/plain": [
       "             DocumentName       Content PreprocessedContent  ContentLength\n",
       "6       output_100001.txt          \"\"\\n                                  0\n",
       "126      output_10011.txt          \"\"\\n                                  0\n",
       "231     output_100204.txt          \"\"\\n                                  0\n",
       "1388    output_101246.txt          \"\"\\n                                  0\n",
       "1411    output_101267.txt  Loading...\\n             loading              7\n",
       "...                   ...           ...                 ...            ...\n",
       "500462   output_98906.txt          \"\"\\n                                  0\n",
       "501151   output_99526.txt          \"\"\\n                                  0\n",
       "501602   output_99932.txt          \"\"\\n                                  0\n",
       "501648   output_99974.txt    Settings\\n            settings              8\n",
       "501667   output_99991.txt          \"\"\\n                                  0\n",
       "\n",
       "[2063 rows x 4 columns]"
      ]
     },
     "execution_count": 166,
     "metadata": {},
     "output_type": "execute_result"
    }
   ],
   "source": [
    "df[df['ContentLength']<10]"
   ]
  },
  {
   "cell_type": "code",
   "execution_count": 167,
   "id": "fb0b8ed5",
   "metadata": {},
   "outputs": [],
   "source": [
    "df.drop(df[df['ContentLength']<10].index,inplace=True)\n",
    "df = df.reset_index(drop=True)"
   ]
  },
  {
   "cell_type": "code",
   "execution_count": 168,
   "id": "4d8fd946",
   "metadata": {},
   "outputs": [
    {
     "data": {
      "text/plain": [
       "0"
      ]
     },
     "execution_count": 168,
     "metadata": {},
     "output_type": "execute_result"
    }
   ],
   "source": [
    "df[\"PreprocessedContent\"].isna().sum()"
   ]
  },
  {
   "cell_type": "markdown",
   "id": "b50ed7c0",
   "metadata": {},
   "source": [
    "### Remove Space from Start-End of Content "
   ]
  },
  {
   "cell_type": "code",
   "execution_count": 170,
   "id": "a1d24c88",
   "metadata": {},
   "outputs": [],
   "source": [
    "df['PreprocessedContent'] = df['PreprocessedContent'].str.strip()"
   ]
  },
  {
   "cell_type": "code",
   "execution_count": 171,
   "id": "fc3ea9ed",
   "metadata": {},
   "outputs": [
    {
     "data": {
      "text/plain": [
       "'media tour operators add update listing contact us international official site kentucky department tourism airport rd nd floor frankfort ky site map privacy disclaimer accessibility kentucky department travel rights reserved powered aristotle'"
      ]
     },
     "execution_count": 171,
     "metadata": {},
     "output_type": "execute_result"
    }
   ],
   "source": [
    "df.sample()[\"PreprocessedContent\"].values[0]"
   ]
  },
  {
   "cell_type": "code",
   "execution_count": 172,
   "id": "6d8b1464",
   "metadata": {},
   "outputs": [
    {
     "data": {
      "text/plain": [
       "0"
      ]
     },
     "execution_count": 172,
     "metadata": {},
     "output_type": "execute_result"
    }
   ],
   "source": [
    "df[\"PreprocessedContent\"].isna().sum()"
   ]
  },
  {
   "cell_type": "markdown",
   "id": "b5a49a0b",
   "metadata": {},
   "source": [
    "### Stemming"
   ]
  },
  {
   "cell_type": "code",
   "execution_count": 174,
   "id": "fed94979",
   "metadata": {},
   "outputs": [],
   "source": [
    "def stem_words(text):\n",
    "    word_tokens = text.split()\n",
    "    stems = ' '.join([stemmer.stem(word) for word in word_tokens])\n",
    "    return stems"
   ]
  },
  {
   "cell_type": "code",
   "execution_count": 175,
   "id": "1e28e10b",
   "metadata": {},
   "outputs": [
    {
     "data": {
      "text/plain": [
       "0    scienc mathemat physic hot glow surfac star em...\n",
       "1    health health troubl swallow due ms crush vali...\n",
       "2    supertramp logic song without cofound roger ho...\n",
       "3    legal market overview franc shrink lament one ...\n",
       "4    health concern medic danger marijuana use must...\n",
       "Name: PreprocessedContent, dtype: object"
      ]
     },
     "execution_count": 175,
     "metadata": {},
     "output_type": "execute_result"
    }
   ],
   "source": [
    "df[\"PreprocessedContent\"].head().apply(stem_words)"
   ]
  },
  {
   "cell_type": "code",
   "execution_count": 176,
   "id": "09515056",
   "metadata": {},
   "outputs": [],
   "source": [
    "df[\"PreprocessedContent\"] = df[\"PreprocessedContent\"].apply(stem_words)"
   ]
  },
  {
   "cell_type": "code",
   "execution_count": 237,
   "id": "d9f63ec2",
   "metadata": {},
   "outputs": [],
   "source": [
    "df.to_csv(\"LargeDataset/PreprocessedContents.csv\",index=False)"
   ]
  },
  {
   "cell_type": "markdown",
   "id": "61f28a9a",
   "metadata": {},
   "source": [
    "# For Later...\n",
    "- Spelling auto correction could be applied to increase performance"
   ]
  },
  {
   "cell_type": "code",
   "execution_count": 4,
   "id": "5b09eb52",
   "metadata": {},
   "outputs": [
    {
     "name": "stdout",
     "output_type": "stream",
     "text": [
      "aaaaaa\n",
      "message\n",
      "service\n",
      "the\n"
     ]
    }
   ],
   "source": [
    "from autocorrect import Speller\n",
    "\n",
    "spell = Speller(lang='en')\n",
    "\n",
    "print(spell('caaaar'))\n",
    "print(spell('mussage'))\n",
    "print(spell('survice'))\n",
    "print(spell('hte'))"
   ]
  }
 ],
 "metadata": {
  "kernelspec": {
   "display_name": "Python 3 (ipykernel)",
   "language": "python",
   "name": "python3"
  },
  "language_info": {
   "codemirror_mode": {
    "name": "ipython",
    "version": 3
   },
   "file_extension": ".py",
   "mimetype": "text/x-python",
   "name": "python",
   "nbconvert_exporter": "python",
   "pygments_lexer": "ipython3",
   "version": "3.12.7"
  }
 },
 "nbformat": 4,
 "nbformat_minor": 5
}
