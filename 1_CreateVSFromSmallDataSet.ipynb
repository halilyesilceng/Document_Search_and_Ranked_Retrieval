{
 "cells": [
  {
   "cell_type": "markdown",
   "id": "4fe09ec7",
   "metadata": {},
   "source": [
    "# 1 Create Vector Space Model"
   ]
  },
  {
   "cell_type": "code",
   "execution_count": 13,
   "id": "a4619995",
   "metadata": {},
   "outputs": [
    {
     "name": "stderr",
     "output_type": "stream",
     "text": [
      "[nltk_data] Downloading package stopwords to\n",
      "[nltk_data]     C:\\Users\\halil\\AppData\\Roaming\\nltk_data...\n",
      "[nltk_data]   Package stopwords is already up-to-date!\n"
     ]
    },
    {
     "data": {
      "text/plain": [
       "True"
      ]
     },
     "execution_count": 13,
     "metadata": {},
     "output_type": "execute_result"
    }
   ],
   "source": [
    "import pandas as pd\n",
    "import re\n",
    "import string\n",
    "from nltk.corpus import stopwords\n",
    "import nltk\n",
    "import spacy\n",
    "from tqdm import tqdm \n",
    "from nltk.stem.porter import PorterStemmer\n",
    "from sklearn.feature_extraction.text import TfidfVectorizer\n",
    "from sklearn.metrics.pairwise import cosine_similarity\n",
    "stemmer = PorterStemmer()\n",
    "nltk.download('stopwords')"
   ]
  },
  {
   "cell_type": "code",
   "execution_count": 14,
   "id": "0de1e879-f1e2-40bd-874e-5cd71af73214",
   "metadata": {},
   "outputs": [],
   "source": [
    "df = pd.read_csv(\"SmallDataset/PreprocessedContents.csv\")"
   ]
  },
  {
   "cell_type": "code",
   "execution_count": 15,
   "id": "c6fa925c",
   "metadata": {},
   "outputs": [
    {
     "data": {
      "text/html": [
       "<div>\n",
       "<style scoped>\n",
       "    .dataframe tbody tr th:only-of-type {\n",
       "        vertical-align: middle;\n",
       "    }\n",
       "\n",
       "    .dataframe tbody tr th {\n",
       "        vertical-align: top;\n",
       "    }\n",
       "\n",
       "    .dataframe thead th {\n",
       "        text-align: right;\n",
       "    }\n",
       "</style>\n",
       "<table border=\"1\" class=\"dataframe\">\n",
       "  <thead>\n",
       "    <tr style=\"text-align: right;\">\n",
       "      <th></th>\n",
       "      <th>DocumentName</th>\n",
       "      <th>Content</th>\n",
       "      <th>PreprocessedContent</th>\n",
       "      <th>ContentLength</th>\n",
       "    </tr>\n",
       "  </thead>\n",
       "  <tbody>\n",
       "    <tr>\n",
       "      <th>0</th>\n",
       "      <td>output_1.txt</td>\n",
       "      <td>Science &amp; Mathematics PhysicsThe hot glowing s...</td>\n",
       "      <td>scienc mathemat physic hot glow surfac star em...</td>\n",
       "      <td>889</td>\n",
       "    </tr>\n",
       "    <tr>\n",
       "      <th>1</th>\n",
       "      <td>output_10.txt</td>\n",
       "      <td>\"Health Other - HealthI have trouble swallowin...</td>\n",
       "      <td>health health troubl swallow due ms crush vali...</td>\n",
       "      <td>1012</td>\n",
       "    </tr>\n",
       "    <tr>\n",
       "      <th>2</th>\n",
       "      <td>output_100.txt</td>\n",
       "      <td>\"Supertramp The Logical Song without Cofounder...</td>\n",
       "      <td>supertramp logic song without cofound roger ho...</td>\n",
       "      <td>1705</td>\n",
       "    </tr>\n",
       "    <tr>\n",
       "      <th>3</th>\n",
       "      <td>output_1000.txt</td>\n",
       "      <td>\"Legal market overview‘ France is shrinking! ’...</td>\n",
       "      <td>legal market overview franc shrink lament one ...</td>\n",
       "      <td>6691</td>\n",
       "    </tr>\n",
       "    <tr>\n",
       "      <th>4</th>\n",
       "      <td>output_1001.txt</td>\n",
       "      <td>\"Name ArgonSymbol ArAtomic Number 18Atomic Mas...</td>\n",
       "      <td>name argon symbol ar atom number atom mass ato...</td>\n",
       "      <td>862</td>\n",
       "    </tr>\n",
       "  </tbody>\n",
       "</table>\n",
       "</div>"
      ],
      "text/plain": [
       "      DocumentName                                            Content  \\\n",
       "0     output_1.txt  Science & Mathematics PhysicsThe hot glowing s...   \n",
       "1    output_10.txt  \"Health Other - HealthI have trouble swallowin...   \n",
       "2   output_100.txt  \"Supertramp The Logical Song without Cofounder...   \n",
       "3  output_1000.txt  \"Legal market overview‘ France is shrinking! ’...   \n",
       "4  output_1001.txt  \"Name ArgonSymbol ArAtomic Number 18Atomic Mas...   \n",
       "\n",
       "                                 PreprocessedContent  ContentLength  \n",
       "0  scienc mathemat physic hot glow surfac star em...            889  \n",
       "1  health health troubl swallow due ms crush vali...           1012  \n",
       "2  supertramp logic song without cofound roger ho...           1705  \n",
       "3  legal market overview franc shrink lament one ...           6691  \n",
       "4  name argon symbol ar atom number atom mass ato...            862  "
      ]
     },
     "execution_count": 15,
     "metadata": {},
     "output_type": "execute_result"
    }
   ],
   "source": [
    "df.head()"
   ]
  },
  {
   "cell_type": "code",
   "execution_count": 16,
   "id": "2d9b9303",
   "metadata": {},
   "outputs": [
    {
     "name": "stderr",
     "output_type": "stream",
     "text": [
      "C:\\Users\\halil\\AppData\\Local\\Temp\\ipykernel_13336\\2463016382.py:2: SettingWithCopyWarning: \n",
      "A value is trying to be set on a copy of a slice from a DataFrame.\n",
      "Try using .loc[row_indexer,col_indexer] = value instead\n",
      "\n",
      "See the caveats in the documentation: https://pandas.pydata.org/pandas-docs/stable/user_guide/indexing.html#returning-a-view-versus-a-copy\n",
      "  contents['DocumentName'] = contents['DocumentName'].str.replace('output_', '').str.replace('.txt', '')\n"
     ]
    }
   ],
   "source": [
    "contents = df[[\"DocumentName\",\"PreprocessedContent\"]]\n",
    "contents['DocumentName'] = contents['DocumentName'].str.replace('output_', '').str.replace('.txt', '')"
   ]
  },
  {
   "cell_type": "code",
   "execution_count": 17,
   "id": "956cc471",
   "metadata": {
    "scrolled": true
   },
   "outputs": [
    {
     "data": {
      "text/html": [
       "<div>\n",
       "<style scoped>\n",
       "    .dataframe tbody tr th:only-of-type {\n",
       "        vertical-align: middle;\n",
       "    }\n",
       "\n",
       "    .dataframe tbody tr th {\n",
       "        vertical-align: top;\n",
       "    }\n",
       "\n",
       "    .dataframe thead th {\n",
       "        text-align: right;\n",
       "    }\n",
       "</style>\n",
       "<table border=\"1\" class=\"dataframe\">\n",
       "  <thead>\n",
       "    <tr style=\"text-align: right;\">\n",
       "      <th></th>\n",
       "      <th>DocumentName</th>\n",
       "      <th>PreprocessedContent</th>\n",
       "    </tr>\n",
       "  </thead>\n",
       "  <tbody>\n",
       "    <tr>\n",
       "      <th>0</th>\n",
       "      <td>1</td>\n",
       "      <td>scienc mathemat physic hot glow surfac star em...</td>\n",
       "    </tr>\n",
       "    <tr>\n",
       "      <th>1</th>\n",
       "      <td>10</td>\n",
       "      <td>health health troubl swallow due ms crush vali...</td>\n",
       "    </tr>\n",
       "    <tr>\n",
       "      <th>2</th>\n",
       "      <td>100</td>\n",
       "      <td>supertramp logic song without cofound roger ho...</td>\n",
       "    </tr>\n",
       "    <tr>\n",
       "      <th>3</th>\n",
       "      <td>1000</td>\n",
       "      <td>legal market overview franc shrink lament one ...</td>\n",
       "    </tr>\n",
       "    <tr>\n",
       "      <th>4</th>\n",
       "      <td>1001</td>\n",
       "      <td>name argon symbol ar atom number atom mass ato...</td>\n",
       "    </tr>\n",
       "  </tbody>\n",
       "</table>\n",
       "</div>"
      ],
      "text/plain": [
       "  DocumentName                                PreprocessedContent\n",
       "0            1  scienc mathemat physic hot glow surfac star em...\n",
       "1           10  health health troubl swallow due ms crush vali...\n",
       "2          100  supertramp logic song without cofound roger ho...\n",
       "3         1000  legal market overview franc shrink lament one ...\n",
       "4         1001  name argon symbol ar atom number atom mass ato..."
      ]
     },
     "execution_count": 17,
     "metadata": {},
     "output_type": "execute_result"
    }
   ],
   "source": [
    "contents.head()"
   ]
  },
  {
   "cell_type": "code",
   "execution_count": 18,
   "id": "5d9e1c5f",
   "metadata": {},
   "outputs": [],
   "source": [
    "class TextPreprocessor:\n",
    "    def __init__(self):\n",
    "        self.stop_words = set(stopwords.words('english'))\n",
    "        self.url_pattern = re.compile(r'https?://\\S+')\n",
    "\n",
    "    def split_words(self, text):\n",
    "        return re.sub(r'([a-z])([A-Z])', r'\\1 \\2', text)\n",
    "\n",
    "    def to_lowercase(self, text):\n",
    "        return text.lower() if isinstance(text, str) else text\n",
    "\n",
    "    def remove_urls(self, text):\n",
    "        return self.url_pattern.sub('', text)\n",
    "\n",
    "    def remove_nonword_chars(self, text):\n",
    "        text = re.sub(r'[^\\w\\s]', ' ', text)\n",
    "        return re.sub(r'[^a-zA-Z\\s]', ' ', text)\n",
    "\n",
    "    def remove_newlines(self, text):\n",
    "        return text.replace('\\n', ' ')\n",
    "\n",
    "    def remove_digits(self, text):\n",
    "        return re.sub(r'\\d', ' ', text)\n",
    "\n",
    "    def remove_stopwords(self, text):\n",
    "        words = text.split()\n",
    "        filtered_words = [word for word in words if word.lower() not in self.stop_words]\n",
    "        return ' '.join(filtered_words)\n",
    "\n",
    "    def remove_punctuation(self, text):\n",
    "        return ''.join([' ' if char in string.punctuation else char for char in text])\n",
    "\n",
    "    def remove_one_letter_words(self, text):\n",
    "        return ' '.join([word for word in text.split() if len(word) > 1])\n",
    "    \n",
    "    def remove_multiple_spaces(self, text):\n",
    "        return re.sub(r'\\s+', ' ', text)\n",
    "\n",
    "    def strip_text(self, text):\n",
    "        return text.strip()\n",
    "    \n",
    "    def stem_words(self,text):\n",
    "        word_tokens = text.split()\n",
    "        stems = ' '.join([stemmer.stem(word) for word in word_tokens])\n",
    "        return stems\n",
    "\n",
    "    def preprocess(self, text):\n",
    "        text = self.split_words(text)\n",
    "        text = self.to_lowercase(text)\n",
    "        text = self.remove_urls(text)\n",
    "        text = self.remove_nonword_chars(text)\n",
    "        text = self.remove_newlines(text)\n",
    "        text = self.remove_digits(text)\n",
    "        text = self.remove_stopwords(text)\n",
    "        text = self.remove_punctuation(text)\n",
    "        text = self.remove_one_letter_words(text)\n",
    "        text = self.remove_multiple_spaces(text)\n",
    "        text = self.strip_text(text)\n",
    "        text = self.stem_words(text)\n",
    "        return text"
   ]
  },
  {
   "cell_type": "code",
   "execution_count": 25,
   "id": "966c13d1",
   "metadata": {},
   "outputs": [],
   "source": [
    "preprocessor = TextPreprocessor()"
   ]
  },
  {
   "cell_type": "code",
   "execution_count": 27,
   "id": "35a6e06a",
   "metadata": {},
   "outputs": [],
   "source": [
    "#tfidf = TfidfVectorizer(ngram_range=(1,3),min_df=0.05)\n",
    "#tfidf = TfidfVectorizer(max_df=0.95, min_df=2, max_features=10000)\n",
    "tfidf = TfidfVectorizer(ngram_range=(1,3))"
   ]
  },
  {
   "cell_type": "code",
   "execution_count": 29,
   "id": "8f5c4868",
   "metadata": {},
   "outputs": [],
   "source": [
    "tfidf_matrix = tfidf.fit_transform(contents['PreprocessedContent'])"
   ]
  },
  {
   "cell_type": "code",
   "execution_count": 30,
   "id": "250bd4cd",
   "metadata": {},
   "outputs": [],
   "source": [
    "terms = tfidf.get_feature_names_out()"
   ]
  },
  {
   "cell_type": "code",
   "execution_count": 31,
   "id": "45381932",
   "metadata": {
    "scrolled": true
   },
   "outputs": [
    {
     "data": {
      "text/plain": [
       "(1607227,)"
      ]
     },
     "execution_count": 31,
     "metadata": {},
     "output_type": "execute_result"
    }
   ],
   "source": [
    "terms.shape"
   ]
  },
  {
   "cell_type": "markdown",
   "id": "413bab03-188a-4f82-a716-984a8c316447",
   "metadata": {},
   "source": [
    "### Example Document Retrieval"
   ]
  },
  {
   "cell_type": "code",
   "execution_count": 602,
   "id": "614613af",
   "metadata": {},
   "outputs": [],
   "source": [
    "query = \"what agency can i report a scammer concerning my computer\"\n",
    "\n",
    "preprocessed_query = preprocessor.preprocess(query)"
   ]
  },
  {
   "cell_type": "code",
   "execution_count": 603,
   "id": "908cda41",
   "metadata": {},
   "outputs": [
    {
     "data": {
      "text/plain": [
       "'agenc report scammer concern comput'"
      ]
     },
     "execution_count": 603,
     "metadata": {},
     "output_type": "execute_result"
    }
   ],
   "source": [
    "preprocessed_query"
   ]
  },
  {
   "cell_type": "code",
   "execution_count": 604,
   "id": "0c7dad36",
   "metadata": {},
   "outputs": [],
   "source": [
    "query_vector = tfidf.transform([preprocessed_query])"
   ]
  },
  {
   "cell_type": "code",
   "execution_count": 605,
   "id": "6f03ecf2",
   "metadata": {},
   "outputs": [],
   "source": [
    "cosine_similarities = cosine_similarity(query_vector, tfidf_matrix)"
   ]
  },
  {
   "cell_type": "code",
   "execution_count": 606,
   "id": "341e51be",
   "metadata": {},
   "outputs": [
    {
     "data": {
      "text/plain": [
       "array([[0.        , 0.00697789, 0.        , ..., 0.        , 0.00723635,\n",
       "        0.        ]])"
      ]
     },
     "execution_count": 606,
     "metadata": {},
     "output_type": "execute_result"
    }
   ],
   "source": [
    "cosine_similarities"
   ]
  },
  {
   "cell_type": "code",
   "execution_count": 607,
   "id": "004fa1bf",
   "metadata": {},
   "outputs": [],
   "source": [
    "similarity_df = pd.DataFrame(cosine_similarities.T, index=contents['DocumentName'], columns=['CosineSimilarity'])"
   ]
  },
  {
   "cell_type": "code",
   "execution_count": 608,
   "id": "56cb53e8",
   "metadata": {},
   "outputs": [],
   "source": [
    "ranked_docs = similarity_df.sort_values(by='CosineSimilarity', ascending=False)"
   ]
  },
  {
   "cell_type": "code",
   "execution_count": 609,
   "id": "76049e03",
   "metadata": {
    "scrolled": true
   },
   "outputs": [
    {
     "data": {
      "text/html": [
       "<div>\n",
       "<style scoped>\n",
       "    .dataframe tbody tr th:only-of-type {\n",
       "        vertical-align: middle;\n",
       "    }\n",
       "\n",
       "    .dataframe tbody tr th {\n",
       "        vertical-align: top;\n",
       "    }\n",
       "\n",
       "    .dataframe thead th {\n",
       "        text-align: right;\n",
       "    }\n",
       "</style>\n",
       "<table border=\"1\" class=\"dataframe\">\n",
       "  <thead>\n",
       "    <tr style=\"text-align: right;\">\n",
       "      <th></th>\n",
       "      <th>CosineSimilarity</th>\n",
       "    </tr>\n",
       "    <tr>\n",
       "      <th>DocumentName</th>\n",
       "      <th></th>\n",
       "    </tr>\n",
       "  </thead>\n",
       "  <tbody>\n",
       "    <tr>\n",
       "      <th>1478</th>\n",
       "      <td>0.141620</td>\n",
       "    </tr>\n",
       "    <tr>\n",
       "      <th>915</th>\n",
       "      <td>0.072077</td>\n",
       "    </tr>\n",
       "    <tr>\n",
       "      <th>697</th>\n",
       "      <td>0.053506</td>\n",
       "    </tr>\n",
       "    <tr>\n",
       "      <th>1511</th>\n",
       "      <td>0.052207</td>\n",
       "    </tr>\n",
       "    <tr>\n",
       "      <th>1122</th>\n",
       "      <td>0.050464</td>\n",
       "    </tr>\n",
       "    <tr>\n",
       "      <th>1206</th>\n",
       "      <td>0.049622</td>\n",
       "    </tr>\n",
       "    <tr>\n",
       "      <th>1296</th>\n",
       "      <td>0.047018</td>\n",
       "    </tr>\n",
       "    <tr>\n",
       "      <th>1175</th>\n",
       "      <td>0.040748</td>\n",
       "    </tr>\n",
       "    <tr>\n",
       "      <th>1301</th>\n",
       "      <td>0.027098</td>\n",
       "    </tr>\n",
       "    <tr>\n",
       "      <th>876</th>\n",
       "      <td>0.026972</td>\n",
       "    </tr>\n",
       "    <tr>\n",
       "      <th>1229</th>\n",
       "      <td>0.026765</td>\n",
       "    </tr>\n",
       "    <tr>\n",
       "      <th>1028</th>\n",
       "      <td>0.026258</td>\n",
       "    </tr>\n",
       "    <tr>\n",
       "      <th>358</th>\n",
       "      <td>0.025155</td>\n",
       "    </tr>\n",
       "    <tr>\n",
       "      <th>373</th>\n",
       "      <td>0.024980</td>\n",
       "    </tr>\n",
       "    <tr>\n",
       "      <th>153</th>\n",
       "      <td>0.023704</td>\n",
       "    </tr>\n",
       "    <tr>\n",
       "      <th>504</th>\n",
       "      <td>0.022544</td>\n",
       "    </tr>\n",
       "    <tr>\n",
       "      <th>555</th>\n",
       "      <td>0.022187</td>\n",
       "    </tr>\n",
       "    <tr>\n",
       "      <th>664</th>\n",
       "      <td>0.021775</td>\n",
       "    </tr>\n",
       "    <tr>\n",
       "      <th>96</th>\n",
       "      <td>0.021164</td>\n",
       "    </tr>\n",
       "    <tr>\n",
       "      <th>1505</th>\n",
       "      <td>0.021049</td>\n",
       "    </tr>\n",
       "    <tr>\n",
       "      <th>1174</th>\n",
       "      <td>0.019895</td>\n",
       "    </tr>\n",
       "    <tr>\n",
       "      <th>562</th>\n",
       "      <td>0.018952</td>\n",
       "    </tr>\n",
       "    <tr>\n",
       "      <th>327</th>\n",
       "      <td>0.018867</td>\n",
       "    </tr>\n",
       "    <tr>\n",
       "      <th>39</th>\n",
       "      <td>0.018462</td>\n",
       "    </tr>\n",
       "    <tr>\n",
       "      <th>318</th>\n",
       "      <td>0.018238</td>\n",
       "    </tr>\n",
       "    <tr>\n",
       "      <th>272</th>\n",
       "      <td>0.017776</td>\n",
       "    </tr>\n",
       "    <tr>\n",
       "      <th>136</th>\n",
       "      <td>0.016937</td>\n",
       "    </tr>\n",
       "    <tr>\n",
       "      <th>341</th>\n",
       "      <td>0.016684</td>\n",
       "    </tr>\n",
       "    <tr>\n",
       "      <th>1350</th>\n",
       "      <td>0.015968</td>\n",
       "    </tr>\n",
       "    <tr>\n",
       "      <th>1018</th>\n",
       "      <td>0.015928</td>\n",
       "    </tr>\n",
       "    <tr>\n",
       "      <th>166</th>\n",
       "      <td>0.015810</td>\n",
       "    </tr>\n",
       "    <tr>\n",
       "      <th>43</th>\n",
       "      <td>0.015280</td>\n",
       "    </tr>\n",
       "    <tr>\n",
       "      <th>103</th>\n",
       "      <td>0.014994</td>\n",
       "    </tr>\n",
       "    <tr>\n",
       "      <th>1105</th>\n",
       "      <td>0.014967</td>\n",
       "    </tr>\n",
       "    <tr>\n",
       "      <th>861</th>\n",
       "      <td>0.014735</td>\n",
       "    </tr>\n",
       "    <tr>\n",
       "      <th>545</th>\n",
       "      <td>0.014635</td>\n",
       "    </tr>\n",
       "    <tr>\n",
       "      <th>1204</th>\n",
       "      <td>0.014083</td>\n",
       "    </tr>\n",
       "    <tr>\n",
       "      <th>1273</th>\n",
       "      <td>0.013979</td>\n",
       "    </tr>\n",
       "    <tr>\n",
       "      <th>1492</th>\n",
       "      <td>0.013721</td>\n",
       "    </tr>\n",
       "    <tr>\n",
       "      <th>125</th>\n",
       "      <td>0.013634</td>\n",
       "    </tr>\n",
       "    <tr>\n",
       "      <th>959</th>\n",
       "      <td>0.013084</td>\n",
       "    </tr>\n",
       "    <tr>\n",
       "      <th>78</th>\n",
       "      <td>0.012951</td>\n",
       "    </tr>\n",
       "    <tr>\n",
       "      <th>1437</th>\n",
       "      <td>0.012753</td>\n",
       "    </tr>\n",
       "    <tr>\n",
       "      <th>729</th>\n",
       "      <td>0.012619</td>\n",
       "    </tr>\n",
       "    <tr>\n",
       "      <th>661</th>\n",
       "      <td>0.012563</td>\n",
       "    </tr>\n",
       "    <tr>\n",
       "      <th>1402</th>\n",
       "      <td>0.012336</td>\n",
       "    </tr>\n",
       "    <tr>\n",
       "      <th>1031</th>\n",
       "      <td>0.012243</td>\n",
       "    </tr>\n",
       "    <tr>\n",
       "      <th>586</th>\n",
       "      <td>0.012185</td>\n",
       "    </tr>\n",
       "    <tr>\n",
       "      <th>1050</th>\n",
       "      <td>0.011789</td>\n",
       "    </tr>\n",
       "    <tr>\n",
       "      <th>1545</th>\n",
       "      <td>0.011771</td>\n",
       "    </tr>\n",
       "  </tbody>\n",
       "</table>\n",
       "</div>"
      ],
      "text/plain": [
       "              CosineSimilarity\n",
       "DocumentName                  \n",
       "1478                  0.141620\n",
       "915                   0.072077\n",
       "697                   0.053506\n",
       "1511                  0.052207\n",
       "1122                  0.050464\n",
       "1206                  0.049622\n",
       "1296                  0.047018\n",
       "1175                  0.040748\n",
       "1301                  0.027098\n",
       "876                   0.026972\n",
       "1229                  0.026765\n",
       "1028                  0.026258\n",
       "358                   0.025155\n",
       "373                   0.024980\n",
       "153                   0.023704\n",
       "504                   0.022544\n",
       "555                   0.022187\n",
       "664                   0.021775\n",
       "96                    0.021164\n",
       "1505                  0.021049\n",
       "1174                  0.019895\n",
       "562                   0.018952\n",
       "327                   0.018867\n",
       "39                    0.018462\n",
       "318                   0.018238\n",
       "272                   0.017776\n",
       "136                   0.016937\n",
       "341                   0.016684\n",
       "1350                  0.015968\n",
       "1018                  0.015928\n",
       "166                   0.015810\n",
       "43                    0.015280\n",
       "103                   0.014994\n",
       "1105                  0.014967\n",
       "861                   0.014735\n",
       "545                   0.014635\n",
       "1204                  0.014083\n",
       "1273                  0.013979\n",
       "1492                  0.013721\n",
       "125                   0.013634\n",
       "959                   0.013084\n",
       "78                    0.012951\n",
       "1437                  0.012753\n",
       "729                   0.012619\n",
       "661                   0.012563\n",
       "1402                  0.012336\n",
       "1031                  0.012243\n",
       "586                   0.012185\n",
       "1050                  0.011789\n",
       "1545                  0.011771"
      ]
     },
     "execution_count": 609,
     "metadata": {},
     "output_type": "execute_result"
    }
   ],
   "source": [
    "ranked_docs.head(50)"
   ]
  },
  {
   "cell_type": "markdown",
   "id": "a28d1cbd",
   "metadata": {},
   "source": [
    "### Testing VSM"
   ]
  },
  {
   "cell_type": "code",
   "execution_count": 35,
   "id": "8f951c13",
   "metadata": {},
   "outputs": [],
   "source": [
    "df_dev_query_results_small = pd.read_csv(\"SmallDataset/dev_query_results_small.csv\")\n",
    "df_dev_small_queries = pd.read_excel(\"SmallDataset/dev_small_queries.xlsx\")"
   ]
  },
  {
   "cell_type": "code",
   "execution_count": 36,
   "id": "e221d04c",
   "metadata": {
    "scrolled": true
   },
   "outputs": [
    {
     "data": {
      "text/html": [
       "<div>\n",
       "<style scoped>\n",
       "    .dataframe tbody tr th:only-of-type {\n",
       "        vertical-align: middle;\n",
       "    }\n",
       "\n",
       "    .dataframe tbody tr th {\n",
       "        vertical-align: top;\n",
       "    }\n",
       "\n",
       "    .dataframe thead th {\n",
       "        text-align: right;\n",
       "    }\n",
       "</style>\n",
       "<table border=\"1\" class=\"dataframe\">\n",
       "  <thead>\n",
       "    <tr style=\"text-align: right;\">\n",
       "      <th></th>\n",
       "      <th>Query number</th>\n",
       "      <th>Query</th>\n",
       "    </tr>\n",
       "  </thead>\n",
       "  <tbody>\n",
       "    <tr>\n",
       "      <th>0</th>\n",
       "      <td>1089273</td>\n",
       "      <td>types of road hugger tires</td>\n",
       "    </tr>\n",
       "    <tr>\n",
       "      <th>1</th>\n",
       "      <td>1087869</td>\n",
       "      <td>what agency can i report a scammer concerning ...</td>\n",
       "    </tr>\n",
       "    <tr>\n",
       "      <th>2</th>\n",
       "      <td>1087858</td>\n",
       "      <td>what airport is in wilder ky</td>\n",
       "    </tr>\n",
       "    <tr>\n",
       "      <th>3</th>\n",
       "      <td>1087532</td>\n",
       "      <td>what are isotopes quizlet</td>\n",
       "    </tr>\n",
       "    <tr>\n",
       "      <th>4</th>\n",
       "      <td>1086886</td>\n",
       "      <td>what are the products and by products of photo...</td>\n",
       "    </tr>\n",
       "  </tbody>\n",
       "</table>\n",
       "</div>"
      ],
      "text/plain": [
       "   Query number                                              Query\n",
       "0       1089273                         types of road hugger tires\n",
       "1       1087869  what agency can i report a scammer concerning ...\n",
       "2       1087858                       what airport is in wilder ky\n",
       "3       1087532                          what are isotopes quizlet\n",
       "4       1086886  what are the products and by products of photo..."
      ]
     },
     "execution_count": 36,
     "metadata": {},
     "output_type": "execute_result"
    }
   ],
   "source": [
    "df_dev_small_queries.head()"
   ]
  },
  {
   "cell_type": "code",
   "execution_count": 39,
   "id": "f6931292",
   "metadata": {},
   "outputs": [],
   "source": [
    "df_merged_results = df_dev_query_results_small.merge(df_dev_small_queries,left_on=\"Query_number\",right_on=\"Query number\",)"
   ]
  },
  {
   "cell_type": "code",
   "execution_count": 41,
   "id": "a78490f8",
   "metadata": {},
   "outputs": [],
   "source": [
    "df_merged_results = df_merged_results.rename(columns={\"doc_number\":\"DocumentName\"})"
   ]
  },
  {
   "cell_type": "code",
   "execution_count": 43,
   "id": "ca697016",
   "metadata": {},
   "outputs": [
    {
     "data": {
      "text/html": [
       "<div>\n",
       "<style scoped>\n",
       "    .dataframe tbody tr th:only-of-type {\n",
       "        vertical-align: middle;\n",
       "    }\n",
       "\n",
       "    .dataframe tbody tr th {\n",
       "        vertical-align: top;\n",
       "    }\n",
       "\n",
       "    .dataframe thead th {\n",
       "        text-align: right;\n",
       "    }\n",
       "</style>\n",
       "<table border=\"1\" class=\"dataframe\">\n",
       "  <thead>\n",
       "    <tr style=\"text-align: right;\">\n",
       "      <th></th>\n",
       "      <th>Query_number</th>\n",
       "      <th>DocumentName</th>\n",
       "      <th>Query number</th>\n",
       "      <th>Query</th>\n",
       "    </tr>\n",
       "  </thead>\n",
       "  <tbody>\n",
       "    <tr>\n",
       "      <th>0</th>\n",
       "      <td>1089273</td>\n",
       "      <td>590</td>\n",
       "      <td>1089273</td>\n",
       "      <td>types of road hugger tires</td>\n",
       "    </tr>\n",
       "    <tr>\n",
       "      <th>1</th>\n",
       "      <td>1087869</td>\n",
       "      <td>1478</td>\n",
       "      <td>1087869</td>\n",
       "      <td>what agency can i report a scammer concerning ...</td>\n",
       "    </tr>\n",
       "    <tr>\n",
       "      <th>2</th>\n",
       "      <td>1087858</td>\n",
       "      <td>547</td>\n",
       "      <td>1087858</td>\n",
       "      <td>what airport is in wilder ky</td>\n",
       "    </tr>\n",
       "    <tr>\n",
       "      <th>3</th>\n",
       "      <td>1087532</td>\n",
       "      <td>595</td>\n",
       "      <td>1087532</td>\n",
       "      <td>what are isotopes quizlet</td>\n",
       "    </tr>\n",
       "    <tr>\n",
       "      <th>4</th>\n",
       "      <td>1086886</td>\n",
       "      <td>466</td>\n",
       "      <td>1086886</td>\n",
       "      <td>what are the products and by products of photo...</td>\n",
       "    </tr>\n",
       "  </tbody>\n",
       "</table>\n",
       "</div>"
      ],
      "text/plain": [
       "   Query_number  DocumentName  Query number  \\\n",
       "0       1089273           590       1089273   \n",
       "1       1087869          1478       1087869   \n",
       "2       1087858           547       1087858   \n",
       "3       1087532           595       1087532   \n",
       "4       1086886           466       1086886   \n",
       "\n",
       "                                               Query  \n",
       "0                         types of road hugger tires  \n",
       "1  what agency can i report a scammer concerning ...  \n",
       "2                       what airport is in wilder ky  \n",
       "3                          what are isotopes quizlet  \n",
       "4  what are the products and by products of photo...  "
      ]
     },
     "execution_count": 43,
     "metadata": {},
     "output_type": "execute_result"
    }
   ],
   "source": [
    "df_merged_results.head()"
   ]
  },
  {
   "cell_type": "markdown",
   "id": "c320e113",
   "metadata": {},
   "source": [
    "### Compute MAP@K"
   ]
  },
  {
   "cell_type": "code",
   "execution_count": 46,
   "id": "e8a0f7de",
   "metadata": {},
   "outputs": [
    {
     "data": {
      "text/html": [
       "<div>\n",
       "<style scoped>\n",
       "    .dataframe tbody tr th:only-of-type {\n",
       "        vertical-align: middle;\n",
       "    }\n",
       "\n",
       "    .dataframe tbody tr th {\n",
       "        vertical-align: top;\n",
       "    }\n",
       "\n",
       "    .dataframe thead th {\n",
       "        text-align: right;\n",
       "    }\n",
       "</style>\n",
       "<table border=\"1\" class=\"dataframe\">\n",
       "  <thead>\n",
       "    <tr style=\"text-align: right;\">\n",
       "      <th></th>\n",
       "      <th>DocumentName</th>\n",
       "      <th>PreprocessedContent</th>\n",
       "    </tr>\n",
       "  </thead>\n",
       "  <tbody>\n",
       "    <tr>\n",
       "      <th>0</th>\n",
       "      <td>1</td>\n",
       "      <td>scienc mathemat physic hot glow surfac star em...</td>\n",
       "    </tr>\n",
       "    <tr>\n",
       "      <th>1</th>\n",
       "      <td>10</td>\n",
       "      <td>health health troubl swallow due ms crush vali...</td>\n",
       "    </tr>\n",
       "    <tr>\n",
       "      <th>2</th>\n",
       "      <td>100</td>\n",
       "      <td>supertramp logic song without cofound roger ho...</td>\n",
       "    </tr>\n",
       "    <tr>\n",
       "      <th>3</th>\n",
       "      <td>1000</td>\n",
       "      <td>legal market overview franc shrink lament one ...</td>\n",
       "    </tr>\n",
       "    <tr>\n",
       "      <th>4</th>\n",
       "      <td>1001</td>\n",
       "      <td>name argon symbol ar atom number atom mass ato...</td>\n",
       "    </tr>\n",
       "  </tbody>\n",
       "</table>\n",
       "</div>"
      ],
      "text/plain": [
       "  DocumentName                                PreprocessedContent\n",
       "0            1  scienc mathemat physic hot glow surfac star em...\n",
       "1           10  health health troubl swallow due ms crush vali...\n",
       "2          100  supertramp logic song without cofound roger ho...\n",
       "3         1000  legal market overview franc shrink lament one ...\n",
       "4         1001  name argon symbol ar atom number atom mass ato..."
      ]
     },
     "execution_count": 46,
     "metadata": {},
     "output_type": "execute_result"
    }
   ],
   "source": [
    "contents.head()"
   ]
  },
  {
   "cell_type": "code",
   "execution_count": 48,
   "id": "b11eb8bd",
   "metadata": {},
   "outputs": [],
   "source": [
    "def calculate_map_at_k(K,df_merged_results=df_merged_results,contents=contents):\n",
    "    average_precisions = []\n",
    "    \n",
    "    for index, row in df_merged_results.iterrows():\n",
    "        query_text = row['Query']\n",
    "        actual_document = row['DocumentName']\n",
    "        preprocessed_query = preprocessor.preprocess(query_text)\n",
    "        query_vector = tfidf.transform([preprocessed_query])\n",
    "        cosine_similarities = cosine_similarity(query_vector, tfidf_matrix)#.flatten()\n",
    "        similarity_df = pd.DataFrame(cosine_similarities.T, index=contents['DocumentName'], columns=['CosineSimilarity'])\n",
    "        ranked_docs = similarity_df.sort_values(by='CosineSimilarity', ascending=False)\n",
    "        top_k_docs = ranked_docs.head(K).index.astype(int).tolist()\n",
    "\n",
    "        relevant_count = 0\n",
    "        precision_at_k = []\n",
    "        for i, doc_name in enumerate(top_k_docs, start=1):\n",
    "            if doc_name == actual_document:\n",
    "                relevant_count += 1\n",
    "                precision_at_k.append(relevant_count / i)\n",
    "\n",
    "        if precision_at_k:\n",
    "            avg_precision = sum(precision_at_k) / min(K, len(precision_at_k))\n",
    "        else:\n",
    "            avg_precision = 0\n",
    "\n",
    "        average_precisions.append(avg_precision)\n",
    "        \n",
    "    map_at_k = sum(average_precisions) / len(average_precisions)\n",
    "    return round(map_at_k, 4)"
   ]
  },
  {
   "cell_type": "markdown",
   "id": "84286570",
   "metadata": {},
   "source": [
    "#### Calculate MAP@K=3"
   ]
  },
  {
   "cell_type": "code",
   "execution_count": 51,
   "id": "b0093a16-925f-4910-bf0b-955626aee262",
   "metadata": {},
   "outputs": [
    {
     "data": {
      "text/plain": [
       "0.7207"
      ]
     },
     "execution_count": 51,
     "metadata": {},
     "output_type": "execute_result"
    }
   ],
   "source": [
    "calculate_map_at_k(3)"
   ]
  },
  {
   "cell_type": "markdown",
   "id": "c7edece6",
   "metadata": {},
   "source": [
    "#### Calculate MAP@K=10"
   ]
  },
  {
   "cell_type": "code",
   "execution_count": 54,
   "id": "f349501f",
   "metadata": {},
   "outputs": [
    {
     "data": {
      "text/plain": [
       "0.7449"
      ]
     },
     "execution_count": 54,
     "metadata": {},
     "output_type": "execute_result"
    }
   ],
   "source": [
    "calculate_map_at_k(10)"
   ]
  },
  {
   "cell_type": "markdown",
   "id": "664ad0b7-54ce-44df-8898-c7842b6b7a25",
   "metadata": {},
   "source": [
    "### Compute MAR@K"
   ]
  },
  {
   "cell_type": "code",
   "execution_count": 64,
   "id": "81aa84df-a652-4190-b0b7-d23614871a2f",
   "metadata": {},
   "outputs": [],
   "source": [
    "def mean_average_recall_at_k(top_k_docs, relevant_docs):\n",
    "    num_relevant_retrieved = len(set(top_k_docs.index) & set(relevant_docs))\n",
    "    num_relevant_total = len(relevant_docs)\n",
    "\n",
    "    if num_relevant_total > 0:\n",
    "        return num_relevant_retrieved / num_relevant_total\n",
    "    else:\n",
    "        return 0.0"
   ]
  },
  {
   "cell_type": "markdown",
   "id": "598ff843-9e71-411d-8864-be49696a389b",
   "metadata": {},
   "source": [
    "#### Calculate MAR@K=3"
   ]
  },
  {
   "cell_type": "code",
   "execution_count": 66,
   "id": "5e5d69f2-c9fe-4d30-8bee-347a77ecdb15",
   "metadata": {},
   "outputs": [],
   "source": [
    "unique_queries = df_merged_results['Query'].unique()\n",
    "k = 3"
   ]
  },
  {
   "cell_type": "code",
   "execution_count": 70,
   "id": "04f37cd7-58a0-4b84-aa6d-098c0cbd83ae",
   "metadata": {
    "collapsed": true,
    "jupyter": {
     "outputs_hidden": true
    }
   },
   "outputs": [
    {
     "name": "stdout",
     "output_type": "stream",
     "text": [
      "0\n",
      "1\n",
      "2\n",
      "3\n",
      "4\n",
      "5\n",
      "6\n",
      "7\n",
      "8\n",
      "9\n",
      "10\n",
      "11\n",
      "12\n",
      "13\n",
      "14\n",
      "15\n",
      "16\n",
      "17\n",
      "18\n",
      "19\n",
      "20\n",
      "21\n",
      "22\n",
      "23\n",
      "24\n",
      "25\n",
      "26\n",
      "27\n",
      "28\n",
      "29\n",
      "30\n",
      "31\n",
      "32\n",
      "33\n",
      "34\n",
      "35\n",
      "36\n",
      "37\n",
      "38\n",
      "39\n",
      "40\n",
      "41\n",
      "42\n",
      "43\n",
      "44\n",
      "45\n",
      "46\n",
      "47\n",
      "48\n",
      "49\n",
      "50\n",
      "51\n",
      "52\n",
      "53\n",
      "54\n",
      "55\n",
      "56\n",
      "57\n",
      "58\n",
      "59\n",
      "60\n",
      "61\n",
      "62\n",
      "63\n",
      "64\n",
      "65\n",
      "66\n",
      "67\n",
      "68\n",
      "69\n",
      "70\n",
      "71\n",
      "72\n",
      "73\n",
      "74\n",
      "75\n",
      "76\n",
      "77\n",
      "78\n",
      "79\n",
      "80\n",
      "81\n",
      "82\n",
      "83\n",
      "84\n",
      "85\n",
      "86\n",
      "87\n",
      "88\n",
      "89\n",
      "90\n",
      "91\n",
      "92\n",
      "93\n",
      "94\n",
      "95\n",
      "96\n",
      "97\n",
      "98\n",
      "99\n",
      "100\n",
      "101\n",
      "102\n",
      "103\n",
      "104\n",
      "105\n",
      "106\n",
      "107\n",
      "108\n",
      "109\n",
      "110\n",
      "111\n",
      "112\n",
      "113\n",
      "114\n",
      "115\n",
      "116\n",
      "117\n",
      "118\n",
      "119\n",
      "120\n",
      "121\n",
      "122\n",
      "123\n",
      "124\n",
      "125\n",
      "126\n",
      "127\n",
      "128\n",
      "129\n",
      "130\n",
      "131\n",
      "132\n",
      "133\n",
      "134\n",
      "135\n",
      "136\n",
      "137\n",
      "138\n",
      "139\n",
      "140\n",
      "141\n",
      "142\n",
      "143\n",
      "144\n",
      "145\n",
      "146\n",
      "147\n",
      "148\n",
      "149\n",
      "150\n",
      "151\n",
      "152\n",
      "153\n",
      "154\n",
      "155\n",
      "156\n",
      "157\n",
      "158\n",
      "159\n",
      "160\n",
      "161\n",
      "162\n",
      "163\n",
      "164\n",
      "165\n",
      "166\n",
      "167\n",
      "168\n",
      "169\n",
      "170\n",
      "171\n",
      "172\n",
      "173\n",
      "174\n",
      "175\n",
      "176\n",
      "177\n",
      "178\n",
      "179\n",
      "180\n",
      "181\n",
      "182\n",
      "183\n",
      "184\n",
      "185\n",
      "186\n",
      "187\n",
      "188\n",
      "189\n",
      "190\n",
      "191\n",
      "192\n",
      "193\n",
      "194\n",
      "195\n",
      "196\n",
      "197\n",
      "198\n",
      "199\n",
      "200\n",
      "201\n",
      "202\n",
      "203\n",
      "204\n",
      "205\n",
      "206\n",
      "207\n",
      "208\n",
      "209\n",
      "210\n",
      "211\n",
      "212\n",
      "213\n",
      "214\n",
      "215\n",
      "216\n",
      "217\n",
      "218\n",
      "219\n",
      "220\n",
      "221\n",
      "222\n",
      "223\n",
      "224\n",
      "225\n",
      "226\n",
      "227\n",
      "228\n",
      "229\n",
      "230\n",
      "231\n",
      "232\n",
      "233\n",
      "234\n",
      "235\n",
      "236\n",
      "237\n",
      "238\n",
      "239\n",
      "240\n",
      "241\n",
      "242\n",
      "243\n",
      "244\n",
      "245\n",
      "246\n",
      "247\n"
     ]
    }
   ],
   "source": [
    "results = []\n",
    "counter = 0 \n",
    "test_results_df_top3 = pd.DataFrame(columns = [\"Query_number\",\"doc_number\"])\n",
    "for query in unique_queries:\n",
    "    print(counter)\n",
    "    counter+=1\n",
    "    preprocessed_query = preprocessor.preprocess(query)  \n",
    "    query_vector = tfidf.transform([preprocessed_query])\n",
    "    cosine_similarities = cosine_similarity(query_vector, tfidf_matrix)\n",
    "    similarity_df = pd.DataFrame(cosine_similarities.T, index=contents['DocumentName'], columns=['CosineSimilarity'])\n",
    "    top_k_docs = similarity_df.sort_values(by='CosineSimilarity', ascending=False).head(k)\n",
    "    relevant_docs = df_merged_results[df_merged_results['Query'] == query]['DocumentName'].astype(str).tolist()\n",
    "    query_number = str(df_merged_results[df_merged_results['Query'] == query][\"Query_number\"].values[0])\n",
    "    new_records = pd.DataFrame({\n",
    "    'Query_number': [query_number] * 3,  # Repeat 155 for each new row\n",
    "    'doc_number': top_k_docs.index  # Values for B\n",
    "    })\n",
    "    test_results_df_top3 = pd.concat([test_results_df_top3, new_records], ignore_index=True)\n",
    "    mar_k = mean_average_recall_at_k(top_k_docs, relevant_docs)\n",
    "    results.append({'Query': query, 'MAR@K': mar_k})"
   ]
  },
  {
   "cell_type": "code",
   "execution_count": 88,
   "id": "f45e48ce-b337-4aaf-9501-566c4f677b72",
   "metadata": {},
   "outputs": [],
   "source": [
    "sum_mar3 = 0\n",
    "for i in results:\n",
    "    sum_mar3 += i[\"MAR@K\"]\n",
    "mar3 = sum_mar3 / len(results)"
   ]
  },
  {
   "cell_type": "code",
   "execution_count": 90,
   "id": "0c6aa603-53d5-4e79-bb41-9f1afdcad8c7",
   "metadata": {},
   "outputs": [
    {
     "data": {
      "text/plain": [
       "0.8125"
      ]
     },
     "execution_count": 90,
     "metadata": {},
     "output_type": "execute_result"
    }
   ],
   "source": [
    "mar3"
   ]
  },
  {
   "cell_type": "markdown",
   "id": "4b96a459-ed10-4c63-84e8-4c4976a48a36",
   "metadata": {},
   "source": [
    "#### Calculate MAR@K=10"
   ]
  },
  {
   "cell_type": "code",
   "execution_count": 92,
   "id": "fea2385b-e7b6-47a8-9d59-5dd7b1886947",
   "metadata": {},
   "outputs": [],
   "source": [
    "unique_queries = df_merged_results['Query'].unique()\n",
    "k = 10"
   ]
  },
  {
   "cell_type": "code",
   "execution_count": 94,
   "id": "98a8c217-c99c-4f35-a01e-b1485d0bcb65",
   "metadata": {},
   "outputs": [],
   "source": [
    "results_top10 = []\n",
    "counter = 0 \n",
    "test_results_df_top10 = pd.DataFrame(columns = [\"Query_number\",\"doc_number\"])\n",
    "for query in unique_queries:\n",
    "    counter+=1\n",
    "    preprocessed_query = preprocessor.preprocess(query)  \n",
    "    query_vector = tfidf.transform([preprocessed_query])\n",
    "    cosine_similarities = cosine_similarity(query_vector, tfidf_matrix)\n",
    "    similarity_df = pd.DataFrame(cosine_similarities.T, index=contents['DocumentName'], columns=['CosineSimilarity'])\n",
    "    top_k_docs = similarity_df.sort_values(by='CosineSimilarity', ascending=False).head(k)\n",
    "    relevant_docs = df_merged_results[df_merged_results['Query'] == query]['DocumentName'].astype(str).tolist()\n",
    "    query_number = str(df_merged_results[df_merged_results['Query'] == query][\"Query_number\"].values[0])\n",
    "    new_records = pd.DataFrame({\n",
    "    'Query_number': [query_number] * k,  # Repeat 155 for each new row\n",
    "    'doc_number': top_k_docs.index  # Values for B\n",
    "    })\n",
    "    test_results_df_top10 = pd.concat([test_results_df_top10, new_records], ignore_index=True)\n",
    "    mar_k = mean_average_recall_at_k(top_k_docs, relevant_docs)\n",
    "    results_top10.append({'Query': query, 'MAR@K': mar_k})"
   ]
  },
  {
   "cell_type": "code",
   "execution_count": 96,
   "id": "e4cfb036-cb53-4496-a402-8a7b90c9d171",
   "metadata": {
    "scrolled": true
   },
   "outputs": [],
   "source": [
    "sum_mar10 = 0\n",
    "for i in results_top10:\n",
    "    sum_mar10 += i[\"MAR@K\"]\n",
    "mar10 = sum_mar10 / len(results)"
   ]
  },
  {
   "cell_type": "code",
   "execution_count": 98,
   "id": "487841f6-7595-4ad4-b896-9f661cea4c44",
   "metadata": {},
   "outputs": [
    {
     "data": {
      "text/plain": [
       "0.9294354838709677"
      ]
     },
     "execution_count": 98,
     "metadata": {},
     "output_type": "execute_result"
    }
   ],
   "source": [
    "mar10"
   ]
  }
 ],
 "metadata": {
  "kernelspec": {
   "display_name": "information_retrieval",
   "language": "python",
   "name": "information_retrieval"
  },
  "language_info": {
   "codemirror_mode": {
    "name": "ipython",
    "version": 3
   },
   "file_extension": ".py",
   "mimetype": "text/x-python",
   "name": "python",
   "nbconvert_exporter": "python",
   "pygments_lexer": "ipython3",
   "version": "3.12.7"
  }
 },
 "nbformat": 4,
 "nbformat_minor": 5
}
